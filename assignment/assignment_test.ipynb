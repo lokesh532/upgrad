{
 "cells": [
  {
   "cell_type": "code",
   "execution_count": 201,
   "metadata": {},
   "outputs": [],
   "source": [
    "import numpy as np\n",
    "import pandas as pd\n",
    "import matplotlib.pyplot as plt\n",
    "import seaborn as sns\n",
    "from sklearn.metrics import r2_score\n",
    "import statsmodels.api as sm \n",
    "\n",
    "# Importing RFE and LinearRegression\n",
    "from sklearn.feature_selection import RFE\n",
    "from sklearn.linear_model import LinearRegression\n",
    "\n",
    "# Calculate the VIFs for the new model\n",
    "from statsmodels.stats.outliers_influence import variance_inflation_factor\n",
    "\n",
    "# Read training data\n",
    "car_df = pd.read_csv(\"CarPrice_Assignment.csv\")"
   ]
  },
  {
   "cell_type": "code",
   "execution_count": 202,
   "metadata": {},
   "outputs": [],
   "source": [
    "# Supress Warnings\n",
    "\n",
    "import warnings\n",
    "warnings.filterwarnings('ignore')"
   ]
  },
  {
   "cell_type": "code",
   "execution_count": 203,
   "metadata": {},
   "outputs": [
    {
     "data": {
      "text/html": [
       "<div>\n",
       "<style scoped>\n",
       "    .dataframe tbody tr th:only-of-type {\n",
       "        vertical-align: middle;\n",
       "    }\n",
       "\n",
       "    .dataframe tbody tr th {\n",
       "        vertical-align: top;\n",
       "    }\n",
       "\n",
       "    .dataframe thead th {\n",
       "        text-align: right;\n",
       "    }\n",
       "</style>\n",
       "<table border=\"1\" class=\"dataframe\">\n",
       "  <thead>\n",
       "    <tr style=\"text-align: right;\">\n",
       "      <th></th>\n",
       "      <th>car_ID</th>\n",
       "      <th>symboling</th>\n",
       "      <th>CarName</th>\n",
       "      <th>fueltype</th>\n",
       "      <th>aspiration</th>\n",
       "      <th>doornumber</th>\n",
       "      <th>carbody</th>\n",
       "      <th>drivewheel</th>\n",
       "      <th>enginelocation</th>\n",
       "      <th>wheelbase</th>\n",
       "      <th>...</th>\n",
       "      <th>enginesize</th>\n",
       "      <th>fuelsystem</th>\n",
       "      <th>boreratio</th>\n",
       "      <th>stroke</th>\n",
       "      <th>compressionratio</th>\n",
       "      <th>horsepower</th>\n",
       "      <th>peakrpm</th>\n",
       "      <th>citympg</th>\n",
       "      <th>highwaympg</th>\n",
       "      <th>price</th>\n",
       "    </tr>\n",
       "  </thead>\n",
       "  <tbody>\n",
       "    <tr>\n",
       "      <th>0</th>\n",
       "      <td>1</td>\n",
       "      <td>3</td>\n",
       "      <td>alfa-romero giulia</td>\n",
       "      <td>gas</td>\n",
       "      <td>std</td>\n",
       "      <td>two</td>\n",
       "      <td>convertible</td>\n",
       "      <td>rwd</td>\n",
       "      <td>front</td>\n",
       "      <td>88.6</td>\n",
       "      <td>...</td>\n",
       "      <td>130</td>\n",
       "      <td>mpfi</td>\n",
       "      <td>3.47</td>\n",
       "      <td>2.68</td>\n",
       "      <td>9.0</td>\n",
       "      <td>111</td>\n",
       "      <td>5000</td>\n",
       "      <td>21</td>\n",
       "      <td>27</td>\n",
       "      <td>13495.0</td>\n",
       "    </tr>\n",
       "    <tr>\n",
       "      <th>1</th>\n",
       "      <td>2</td>\n",
       "      <td>3</td>\n",
       "      <td>alfa-romero stelvio</td>\n",
       "      <td>gas</td>\n",
       "      <td>std</td>\n",
       "      <td>two</td>\n",
       "      <td>convertible</td>\n",
       "      <td>rwd</td>\n",
       "      <td>front</td>\n",
       "      <td>88.6</td>\n",
       "      <td>...</td>\n",
       "      <td>130</td>\n",
       "      <td>mpfi</td>\n",
       "      <td>3.47</td>\n",
       "      <td>2.68</td>\n",
       "      <td>9.0</td>\n",
       "      <td>111</td>\n",
       "      <td>5000</td>\n",
       "      <td>21</td>\n",
       "      <td>27</td>\n",
       "      <td>16500.0</td>\n",
       "    </tr>\n",
       "    <tr>\n",
       "      <th>2</th>\n",
       "      <td>3</td>\n",
       "      <td>1</td>\n",
       "      <td>alfa-romero Quadrifoglio</td>\n",
       "      <td>gas</td>\n",
       "      <td>std</td>\n",
       "      <td>two</td>\n",
       "      <td>hatchback</td>\n",
       "      <td>rwd</td>\n",
       "      <td>front</td>\n",
       "      <td>94.5</td>\n",
       "      <td>...</td>\n",
       "      <td>152</td>\n",
       "      <td>mpfi</td>\n",
       "      <td>2.68</td>\n",
       "      <td>3.47</td>\n",
       "      <td>9.0</td>\n",
       "      <td>154</td>\n",
       "      <td>5000</td>\n",
       "      <td>19</td>\n",
       "      <td>26</td>\n",
       "      <td>16500.0</td>\n",
       "    </tr>\n",
       "    <tr>\n",
       "      <th>3</th>\n",
       "      <td>4</td>\n",
       "      <td>2</td>\n",
       "      <td>audi 100 ls</td>\n",
       "      <td>gas</td>\n",
       "      <td>std</td>\n",
       "      <td>four</td>\n",
       "      <td>sedan</td>\n",
       "      <td>fwd</td>\n",
       "      <td>front</td>\n",
       "      <td>99.8</td>\n",
       "      <td>...</td>\n",
       "      <td>109</td>\n",
       "      <td>mpfi</td>\n",
       "      <td>3.19</td>\n",
       "      <td>3.40</td>\n",
       "      <td>10.0</td>\n",
       "      <td>102</td>\n",
       "      <td>5500</td>\n",
       "      <td>24</td>\n",
       "      <td>30</td>\n",
       "      <td>13950.0</td>\n",
       "    </tr>\n",
       "    <tr>\n",
       "      <th>4</th>\n",
       "      <td>5</td>\n",
       "      <td>2</td>\n",
       "      <td>audi 100ls</td>\n",
       "      <td>gas</td>\n",
       "      <td>std</td>\n",
       "      <td>four</td>\n",
       "      <td>sedan</td>\n",
       "      <td>4wd</td>\n",
       "      <td>front</td>\n",
       "      <td>99.4</td>\n",
       "      <td>...</td>\n",
       "      <td>136</td>\n",
       "      <td>mpfi</td>\n",
       "      <td>3.19</td>\n",
       "      <td>3.40</td>\n",
       "      <td>8.0</td>\n",
       "      <td>115</td>\n",
       "      <td>5500</td>\n",
       "      <td>18</td>\n",
       "      <td>22</td>\n",
       "      <td>17450.0</td>\n",
       "    </tr>\n",
       "  </tbody>\n",
       "</table>\n",
       "<p>5 rows × 26 columns</p>\n",
       "</div>"
      ],
      "text/plain": [
       "   car_ID  symboling                   CarName fueltype aspiration doornumber  \\\n",
       "0       1          3        alfa-romero giulia      gas        std        two   \n",
       "1       2          3       alfa-romero stelvio      gas        std        two   \n",
       "2       3          1  alfa-romero Quadrifoglio      gas        std        two   \n",
       "3       4          2               audi 100 ls      gas        std       four   \n",
       "4       5          2                audi 100ls      gas        std       four   \n",
       "\n",
       "       carbody drivewheel enginelocation  wheelbase  ...  enginesize  \\\n",
       "0  convertible        rwd          front       88.6  ...         130   \n",
       "1  convertible        rwd          front       88.6  ...         130   \n",
       "2    hatchback        rwd          front       94.5  ...         152   \n",
       "3        sedan        fwd          front       99.8  ...         109   \n",
       "4        sedan        4wd          front       99.4  ...         136   \n",
       "\n",
       "   fuelsystem  boreratio  stroke compressionratio horsepower  peakrpm citympg  \\\n",
       "0        mpfi       3.47    2.68              9.0        111     5000      21   \n",
       "1        mpfi       3.47    2.68              9.0        111     5000      21   \n",
       "2        mpfi       2.68    3.47              9.0        154     5000      19   \n",
       "3        mpfi       3.19    3.40             10.0        102     5500      24   \n",
       "4        mpfi       3.19    3.40              8.0        115     5500      18   \n",
       "\n",
       "   highwaympg    price  \n",
       "0          27  13495.0  \n",
       "1          27  16500.0  \n",
       "2          26  16500.0  \n",
       "3          30  13950.0  \n",
       "4          22  17450.0  \n",
       "\n",
       "[5 rows x 26 columns]"
      ]
     },
     "execution_count": 203,
     "metadata": {},
     "output_type": "execute_result"
    }
   ],
   "source": [
    "car_df.head()"
   ]
  },
  {
   "cell_type": "code",
   "execution_count": 204,
   "metadata": {},
   "outputs": [
    {
     "data": {
      "text/html": [
       "<div>\n",
       "<style scoped>\n",
       "    .dataframe tbody tr th:only-of-type {\n",
       "        vertical-align: middle;\n",
       "    }\n",
       "\n",
       "    .dataframe tbody tr th {\n",
       "        vertical-align: top;\n",
       "    }\n",
       "\n",
       "    .dataframe thead th {\n",
       "        text-align: right;\n",
       "    }\n",
       "</style>\n",
       "<table border=\"1\" class=\"dataframe\">\n",
       "  <thead>\n",
       "    <tr style=\"text-align: right;\">\n",
       "      <th></th>\n",
       "      <th>car_ID</th>\n",
       "      <th>symboling</th>\n",
       "      <th>wheelbase</th>\n",
       "      <th>carlength</th>\n",
       "      <th>carwidth</th>\n",
       "      <th>carheight</th>\n",
       "      <th>curbweight</th>\n",
       "      <th>enginesize</th>\n",
       "      <th>boreratio</th>\n",
       "      <th>stroke</th>\n",
       "      <th>compressionratio</th>\n",
       "      <th>horsepower</th>\n",
       "      <th>peakrpm</th>\n",
       "      <th>citympg</th>\n",
       "      <th>highwaympg</th>\n",
       "      <th>price</th>\n",
       "    </tr>\n",
       "  </thead>\n",
       "  <tbody>\n",
       "    <tr>\n",
       "      <th>count</th>\n",
       "      <td>205.000000</td>\n",
       "      <td>205.000000</td>\n",
       "      <td>205.000000</td>\n",
       "      <td>205.000000</td>\n",
       "      <td>205.000000</td>\n",
       "      <td>205.000000</td>\n",
       "      <td>205.000000</td>\n",
       "      <td>205.000000</td>\n",
       "      <td>205.000000</td>\n",
       "      <td>205.000000</td>\n",
       "      <td>205.000000</td>\n",
       "      <td>205.000000</td>\n",
       "      <td>205.000000</td>\n",
       "      <td>205.000000</td>\n",
       "      <td>205.000000</td>\n",
       "      <td>205.000000</td>\n",
       "    </tr>\n",
       "    <tr>\n",
       "      <th>mean</th>\n",
       "      <td>103.000000</td>\n",
       "      <td>0.834146</td>\n",
       "      <td>98.756585</td>\n",
       "      <td>174.049268</td>\n",
       "      <td>65.907805</td>\n",
       "      <td>53.724878</td>\n",
       "      <td>2555.565854</td>\n",
       "      <td>126.907317</td>\n",
       "      <td>3.329756</td>\n",
       "      <td>3.255415</td>\n",
       "      <td>10.142537</td>\n",
       "      <td>104.117073</td>\n",
       "      <td>5125.121951</td>\n",
       "      <td>25.219512</td>\n",
       "      <td>30.751220</td>\n",
       "      <td>13276.710571</td>\n",
       "    </tr>\n",
       "    <tr>\n",
       "      <th>std</th>\n",
       "      <td>59.322565</td>\n",
       "      <td>1.245307</td>\n",
       "      <td>6.021776</td>\n",
       "      <td>12.337289</td>\n",
       "      <td>2.145204</td>\n",
       "      <td>2.443522</td>\n",
       "      <td>520.680204</td>\n",
       "      <td>41.642693</td>\n",
       "      <td>0.270844</td>\n",
       "      <td>0.313597</td>\n",
       "      <td>3.972040</td>\n",
       "      <td>39.544167</td>\n",
       "      <td>476.985643</td>\n",
       "      <td>6.542142</td>\n",
       "      <td>6.886443</td>\n",
       "      <td>7988.852332</td>\n",
       "    </tr>\n",
       "    <tr>\n",
       "      <th>min</th>\n",
       "      <td>1.000000</td>\n",
       "      <td>-2.000000</td>\n",
       "      <td>86.600000</td>\n",
       "      <td>141.100000</td>\n",
       "      <td>60.300000</td>\n",
       "      <td>47.800000</td>\n",
       "      <td>1488.000000</td>\n",
       "      <td>61.000000</td>\n",
       "      <td>2.540000</td>\n",
       "      <td>2.070000</td>\n",
       "      <td>7.000000</td>\n",
       "      <td>48.000000</td>\n",
       "      <td>4150.000000</td>\n",
       "      <td>13.000000</td>\n",
       "      <td>16.000000</td>\n",
       "      <td>5118.000000</td>\n",
       "    </tr>\n",
       "    <tr>\n",
       "      <th>25%</th>\n",
       "      <td>52.000000</td>\n",
       "      <td>0.000000</td>\n",
       "      <td>94.500000</td>\n",
       "      <td>166.300000</td>\n",
       "      <td>64.100000</td>\n",
       "      <td>52.000000</td>\n",
       "      <td>2145.000000</td>\n",
       "      <td>97.000000</td>\n",
       "      <td>3.150000</td>\n",
       "      <td>3.110000</td>\n",
       "      <td>8.600000</td>\n",
       "      <td>70.000000</td>\n",
       "      <td>4800.000000</td>\n",
       "      <td>19.000000</td>\n",
       "      <td>25.000000</td>\n",
       "      <td>7788.000000</td>\n",
       "    </tr>\n",
       "    <tr>\n",
       "      <th>50%</th>\n",
       "      <td>103.000000</td>\n",
       "      <td>1.000000</td>\n",
       "      <td>97.000000</td>\n",
       "      <td>173.200000</td>\n",
       "      <td>65.500000</td>\n",
       "      <td>54.100000</td>\n",
       "      <td>2414.000000</td>\n",
       "      <td>120.000000</td>\n",
       "      <td>3.310000</td>\n",
       "      <td>3.290000</td>\n",
       "      <td>9.000000</td>\n",
       "      <td>95.000000</td>\n",
       "      <td>5200.000000</td>\n",
       "      <td>24.000000</td>\n",
       "      <td>30.000000</td>\n",
       "      <td>10295.000000</td>\n",
       "    </tr>\n",
       "    <tr>\n",
       "      <th>75%</th>\n",
       "      <td>154.000000</td>\n",
       "      <td>2.000000</td>\n",
       "      <td>102.400000</td>\n",
       "      <td>183.100000</td>\n",
       "      <td>66.900000</td>\n",
       "      <td>55.500000</td>\n",
       "      <td>2935.000000</td>\n",
       "      <td>141.000000</td>\n",
       "      <td>3.580000</td>\n",
       "      <td>3.410000</td>\n",
       "      <td>9.400000</td>\n",
       "      <td>116.000000</td>\n",
       "      <td>5500.000000</td>\n",
       "      <td>30.000000</td>\n",
       "      <td>34.000000</td>\n",
       "      <td>16503.000000</td>\n",
       "    </tr>\n",
       "    <tr>\n",
       "      <th>max</th>\n",
       "      <td>205.000000</td>\n",
       "      <td>3.000000</td>\n",
       "      <td>120.900000</td>\n",
       "      <td>208.100000</td>\n",
       "      <td>72.300000</td>\n",
       "      <td>59.800000</td>\n",
       "      <td>4066.000000</td>\n",
       "      <td>326.000000</td>\n",
       "      <td>3.940000</td>\n",
       "      <td>4.170000</td>\n",
       "      <td>23.000000</td>\n",
       "      <td>288.000000</td>\n",
       "      <td>6600.000000</td>\n",
       "      <td>49.000000</td>\n",
       "      <td>54.000000</td>\n",
       "      <td>45400.000000</td>\n",
       "    </tr>\n",
       "  </tbody>\n",
       "</table>\n",
       "</div>"
      ],
      "text/plain": [
       "           car_ID   symboling   wheelbase   carlength    carwidth   carheight  \\\n",
       "count  205.000000  205.000000  205.000000  205.000000  205.000000  205.000000   \n",
       "mean   103.000000    0.834146   98.756585  174.049268   65.907805   53.724878   \n",
       "std     59.322565    1.245307    6.021776   12.337289    2.145204    2.443522   \n",
       "min      1.000000   -2.000000   86.600000  141.100000   60.300000   47.800000   \n",
       "25%     52.000000    0.000000   94.500000  166.300000   64.100000   52.000000   \n",
       "50%    103.000000    1.000000   97.000000  173.200000   65.500000   54.100000   \n",
       "75%    154.000000    2.000000  102.400000  183.100000   66.900000   55.500000   \n",
       "max    205.000000    3.000000  120.900000  208.100000   72.300000   59.800000   \n",
       "\n",
       "        curbweight  enginesize   boreratio      stroke  compressionratio  \\\n",
       "count   205.000000  205.000000  205.000000  205.000000        205.000000   \n",
       "mean   2555.565854  126.907317    3.329756    3.255415         10.142537   \n",
       "std     520.680204   41.642693    0.270844    0.313597          3.972040   \n",
       "min    1488.000000   61.000000    2.540000    2.070000          7.000000   \n",
       "25%    2145.000000   97.000000    3.150000    3.110000          8.600000   \n",
       "50%    2414.000000  120.000000    3.310000    3.290000          9.000000   \n",
       "75%    2935.000000  141.000000    3.580000    3.410000          9.400000   \n",
       "max    4066.000000  326.000000    3.940000    4.170000         23.000000   \n",
       "\n",
       "       horsepower      peakrpm     citympg  highwaympg         price  \n",
       "count  205.000000   205.000000  205.000000  205.000000    205.000000  \n",
       "mean   104.117073  5125.121951   25.219512   30.751220  13276.710571  \n",
       "std     39.544167   476.985643    6.542142    6.886443   7988.852332  \n",
       "min     48.000000  4150.000000   13.000000   16.000000   5118.000000  \n",
       "25%     70.000000  4800.000000   19.000000   25.000000   7788.000000  \n",
       "50%     95.000000  5200.000000   24.000000   30.000000  10295.000000  \n",
       "75%    116.000000  5500.000000   30.000000   34.000000  16503.000000  \n",
       "max    288.000000  6600.000000   49.000000   54.000000  45400.000000  "
      ]
     },
     "execution_count": 204,
     "metadata": {},
     "output_type": "execute_result"
    }
   ],
   "source": [
    "#car_df.isnull().sum()\n",
    "car_df.describe()"
   ]
  },
  {
   "cell_type": "markdown",
   "metadata": {},
   "source": [
    "### Data Cleaning"
   ]
  },
  {
   "cell_type": "code",
   "execution_count": 205,
   "metadata": {},
   "outputs": [],
   "source": [
    "# Id Adds no real value to analysis so removing it \n",
    "car_df.drop(['car_ID'], axis =1, inplace = True)"
   ]
  },
  {
   "cell_type": "markdown",
   "metadata": {},
   "source": [
    "#### Cleaning car name"
   ]
  },
  {
   "cell_type": "code",
   "execution_count": 206,
   "metadata": {},
   "outputs": [],
   "source": [
    "car_df['CarName']=car_df['CarName'].apply(lambda x: x.split(\" \")[0])"
   ]
  },
  {
   "cell_type": "code",
   "execution_count": 207,
   "metadata": {},
   "outputs": [
    {
     "data": {
      "text/plain": [
       "array(['alfa-romero', 'audi', 'bmw', 'chevrolet', 'dodge', 'honda',\n",
       "       'isuzu', 'jaguar', 'maxda', 'mazda', 'buick', 'mercury',\n",
       "       'mitsubishi', 'Nissan', 'nissan', 'peugeot', 'plymouth', 'porsche',\n",
       "       'porcshce', 'renault', 'saab', 'subaru', 'toyota', 'toyouta',\n",
       "       'vokswagen', 'volkswagen', 'vw', 'volvo'], dtype=object)"
      ]
     },
     "execution_count": 207,
     "metadata": {},
     "output_type": "execute_result"
    }
   ],
   "source": [
    "car_df['CarName'].unique()"
   ]
  },
  {
   "cell_type": "code",
   "execution_count": 208,
   "metadata": {},
   "outputs": [],
   "source": [
    "def correctcarnames(name):\n",
    "    if(name=='maxda'):\n",
    "        return 'mazda'\n",
    "    if(name=='Nissan'):\n",
    "        return 'nissan'\n",
    "    if(name=='porcshce'):\n",
    "        return 'porsche'\n",
    "    if(name=='toyouta'):\n",
    "        return 'toyota'\n",
    "    if(name=='vokswagen' or name=='vw'):\n",
    "        return 'volkswagen'\n",
    "    else:\n",
    "        return name"
   ]
  },
  {
   "cell_type": "code",
   "execution_count": 209,
   "metadata": {},
   "outputs": [],
   "source": [
    "car_df['CarName']=car_df['CarName'].apply(correctcarnames)"
   ]
  },
  {
   "cell_type": "code",
   "execution_count": 210,
   "metadata": {},
   "outputs": [
    {
     "data": {
      "text/plain": [
       "<matplotlib.axes._subplots.AxesSubplot at 0x2ee9e159ac8>"
      ]
     },
     "execution_count": 210,
     "metadata": {},
     "output_type": "execute_result"
    },
    {
     "data": {
      "image/png": "[encoded data removed]",
      "text/plain": [
       "<Figure size 2160x1440 with 2 Axes>"
      ]
     },
     "metadata": {
      "needs_background": "light"
     },
     "output_type": "display_data"
    }
   ],
   "source": [
    "plt.figure(figsize = (30,20))\n",
    "sns.heatmap(car_df.corr(),annot=True,cmap=\"YlGnBu\")"
   ]
  },
  {
   "cell_type": "markdown",
   "metadata": {},
   "source": [
    "#### mileage"
   ]
  },
  {
   "cell_type": "code",
   "execution_count": 211,
   "metadata": {},
   "outputs": [],
   "source": [
    "# Averageing city and highway mileage to create single variable as the two variables are highly correlated\n",
    "car_df['mpg']=(car_df['citympg']+car_df['highwaympg'])/2"
   ]
  },
  {
   "cell_type": "code",
   "execution_count": 212,
   "metadata": {},
   "outputs": [],
   "source": [
    "car_df.drop(['citympg','highwaympg'], axis =1, inplace = True)"
   ]
  },
  {
   "cell_type": "markdown",
   "metadata": {},
   "source": [
    "#### Wheel base vs Car length"
   ]
  },
  {
   "cell_type": "code",
   "execution_count": 213,
   "metadata": {},
   "outputs": [],
   "source": [
    "#Wheel base is highly correlated to car lenght as it measures length between front and rear wheels, \n",
    "# which accounts for most length of the car."
   ]
  },
  {
   "cell_type": "code",
   "execution_count": 214,
   "metadata": {},
   "outputs": [],
   "source": [
    "car_df.drop(['wheelbase'], axis =1, inplace = True)"
   ]
  },
  {
   "cell_type": "markdown",
   "metadata": {},
   "source": [
    "#### Curb weight and Carwidth"
   ]
  },
  {
   "cell_type": "code",
   "execution_count": 215,
   "metadata": {},
   "outputs": [],
   "source": [
    "#Curb weight is empty weight of the car , which is highly correlated to lenght, width and engine size of the car,\n",
    "#Carwidth is highly correlated to car lenght and business logic also validates, cars that are longer tend to be wider as well.\n",
    "#so they can be removed"
   ]
  },
  {
   "cell_type": "code",
   "execution_count": 216,
   "metadata": {},
   "outputs": [],
   "source": [
    "car_df.drop(['curbweight','carwidth'], axis =1, inplace = True)"
   ]
  },
  {
   "cell_type": "code",
   "execution_count": 217,
   "metadata": {},
   "outputs": [
    {
     "data": {
      "text/plain": [
       "symboling             6\n",
       "CarName              22\n",
       "fueltype              2\n",
       "aspiration            2\n",
       "doornumber            2\n",
       "carbody               5\n",
       "drivewheel            3\n",
       "enginelocation        2\n",
       "carlength            75\n",
       "carheight            49\n",
       "enginetype            7\n",
       "cylindernumber        7\n",
       "enginesize           44\n",
       "fuelsystem            8\n",
       "boreratio            38\n",
       "stroke               37\n",
       "compressionratio     32\n",
       "horsepower           59\n",
       "peakrpm              23\n",
       "price               189\n",
       "mpg                  46\n",
       "dtype: int64"
      ]
     },
     "execution_count": 217,
     "metadata": {},
     "output_type": "execute_result"
    }
   ],
   "source": [
    "car_df.nunique()"
   ]
  },
  {
   "cell_type": "code",
   "execution_count": 218,
   "metadata": {},
   "outputs": [],
   "source": [
    "# Category variables\n",
    "# 'CarName','fueltype','aspiration','doornumber','carbody','drivewheel','enginelocation','enginetype','cylindernumber','fuelsystem'\n",
    "# Binrary Category variables\n",
    "# 'fueltype','doornumber','aspiration','enginelocation'"
   ]
  },
  {
   "cell_type": "markdown",
   "metadata": {},
   "source": [
    "### Data preparation"
   ]
  },
  {
   "cell_type": "code",
   "execution_count": 219,
   "metadata": {},
   "outputs": [],
   "source": [
    "# Applying the function to the cars df\n",
    "car_df[['fueltype']] = car_df[['fueltype']].apply(lambda x:x.map({'gas': 1, 'diesel': 0}))\n",
    "car_df[['doornumber']] = car_df[['doornumber']].apply(lambda x:x.map({'four': 1, 'two': 0}))\n",
    "car_df[['aspiration']] = car_df[['aspiration']].apply(lambda x:x.map({'std': 1, 'turbo': 0}))\n",
    "car_df[['enginelocation']] = car_df[['enginelocation']].apply(lambda x:x.map({'front': 1, 'rear': 0}))"
   ]
  },
  {
   "cell_type": "code",
   "execution_count": 220,
   "metadata": {},
   "outputs": [
    {
     "data": {
      "text/html": [
       "<div>\n",
       "<style scoped>\n",
       "    .dataframe tbody tr th:only-of-type {\n",
       "        vertical-align: middle;\n",
       "    }\n",
       "\n",
       "    .dataframe tbody tr th {\n",
       "        vertical-align: top;\n",
       "    }\n",
       "\n",
       "    .dataframe thead th {\n",
       "        text-align: right;\n",
       "    }\n",
       "</style>\n",
       "<table border=\"1\" class=\"dataframe\">\n",
       "  <thead>\n",
       "    <tr style=\"text-align: right;\">\n",
       "      <th></th>\n",
       "      <th>symboling</th>\n",
       "      <th>CarName</th>\n",
       "      <th>fueltype</th>\n",
       "      <th>aspiration</th>\n",
       "      <th>doornumber</th>\n",
       "      <th>carbody</th>\n",
       "      <th>drivewheel</th>\n",
       "      <th>enginelocation</th>\n",
       "      <th>carlength</th>\n",
       "      <th>carheight</th>\n",
       "      <th>...</th>\n",
       "      <th>cylindernumber</th>\n",
       "      <th>enginesize</th>\n",
       "      <th>fuelsystem</th>\n",
       "      <th>boreratio</th>\n",
       "      <th>stroke</th>\n",
       "      <th>compressionratio</th>\n",
       "      <th>horsepower</th>\n",
       "      <th>peakrpm</th>\n",
       "      <th>price</th>\n",
       "      <th>mpg</th>\n",
       "    </tr>\n",
       "  </thead>\n",
       "  <tbody>\n",
       "    <tr>\n",
       "      <th>0</th>\n",
       "      <td>3</td>\n",
       "      <td>alfa-romero</td>\n",
       "      <td>1</td>\n",
       "      <td>1</td>\n",
       "      <td>0</td>\n",
       "      <td>convertible</td>\n",
       "      <td>rwd</td>\n",
       "      <td>1</td>\n",
       "      <td>168.8</td>\n",
       "      <td>48.8</td>\n",
       "      <td>...</td>\n",
       "      <td>four</td>\n",
       "      <td>130</td>\n",
       "      <td>mpfi</td>\n",
       "      <td>3.47</td>\n",
       "      <td>2.68</td>\n",
       "      <td>9.0</td>\n",
       "      <td>111</td>\n",
       "      <td>5000</td>\n",
       "      <td>13495.0</td>\n",
       "      <td>24.0</td>\n",
       "    </tr>\n",
       "    <tr>\n",
       "      <th>1</th>\n",
       "      <td>3</td>\n",
       "      <td>alfa-romero</td>\n",
       "      <td>1</td>\n",
       "      <td>1</td>\n",
       "      <td>0</td>\n",
       "      <td>convertible</td>\n",
       "      <td>rwd</td>\n",
       "      <td>1</td>\n",
       "      <td>168.8</td>\n",
       "      <td>48.8</td>\n",
       "      <td>...</td>\n",
       "      <td>four</td>\n",
       "      <td>130</td>\n",
       "      <td>mpfi</td>\n",
       "      <td>3.47</td>\n",
       "      <td>2.68</td>\n",
       "      <td>9.0</td>\n",
       "      <td>111</td>\n",
       "      <td>5000</td>\n",
       "      <td>16500.0</td>\n",
       "      <td>24.0</td>\n",
       "    </tr>\n",
       "    <tr>\n",
       "      <th>2</th>\n",
       "      <td>1</td>\n",
       "      <td>alfa-romero</td>\n",
       "      <td>1</td>\n",
       "      <td>1</td>\n",
       "      <td>0</td>\n",
       "      <td>hatchback</td>\n",
       "      <td>rwd</td>\n",
       "      <td>1</td>\n",
       "      <td>171.2</td>\n",
       "      <td>52.4</td>\n",
       "      <td>...</td>\n",
       "      <td>six</td>\n",
       "      <td>152</td>\n",
       "      <td>mpfi</td>\n",
       "      <td>2.68</td>\n",
       "      <td>3.47</td>\n",
       "      <td>9.0</td>\n",
       "      <td>154</td>\n",
       "      <td>5000</td>\n",
       "      <td>16500.0</td>\n",
       "      <td>22.5</td>\n",
       "    </tr>\n",
       "    <tr>\n",
       "      <th>3</th>\n",
       "      <td>2</td>\n",
       "      <td>audi</td>\n",
       "      <td>1</td>\n",
       "      <td>1</td>\n",
       "      <td>1</td>\n",
       "      <td>sedan</td>\n",
       "      <td>fwd</td>\n",
       "      <td>1</td>\n",
       "      <td>176.6</td>\n",
       "      <td>54.3</td>\n",
       "      <td>...</td>\n",
       "      <td>four</td>\n",
       "      <td>109</td>\n",
       "      <td>mpfi</td>\n",
       "      <td>3.19</td>\n",
       "      <td>3.40</td>\n",
       "      <td>10.0</td>\n",
       "      <td>102</td>\n",
       "      <td>5500</td>\n",
       "      <td>13950.0</td>\n",
       "      <td>27.0</td>\n",
       "    </tr>\n",
       "    <tr>\n",
       "      <th>4</th>\n",
       "      <td>2</td>\n",
       "      <td>audi</td>\n",
       "      <td>1</td>\n",
       "      <td>1</td>\n",
       "      <td>1</td>\n",
       "      <td>sedan</td>\n",
       "      <td>4wd</td>\n",
       "      <td>1</td>\n",
       "      <td>176.6</td>\n",
       "      <td>54.3</td>\n",
       "      <td>...</td>\n",
       "      <td>five</td>\n",
       "      <td>136</td>\n",
       "      <td>mpfi</td>\n",
       "      <td>3.19</td>\n",
       "      <td>3.40</td>\n",
       "      <td>8.0</td>\n",
       "      <td>115</td>\n",
       "      <td>5500</td>\n",
       "      <td>17450.0</td>\n",
       "      <td>20.0</td>\n",
       "    </tr>\n",
       "  </tbody>\n",
       "</table>\n",
       "<p>5 rows × 21 columns</p>\n",
       "</div>"
      ],
      "text/plain": [
       "   symboling      CarName  fueltype  aspiration  doornumber      carbody  \\\n",
       "0          3  alfa-romero         1           1           0  convertible   \n",
       "1          3  alfa-romero         1           1           0  convertible   \n",
       "2          1  alfa-romero         1           1           0    hatchback   \n",
       "3          2         audi         1           1           1        sedan   \n",
       "4          2         audi         1           1           1        sedan   \n",
       "\n",
       "  drivewheel  enginelocation  carlength  carheight  ... cylindernumber  \\\n",
       "0        rwd               1      168.8       48.8  ...           four   \n",
       "1        rwd               1      168.8       48.8  ...           four   \n",
       "2        rwd               1      171.2       52.4  ...            six   \n",
       "3        fwd               1      176.6       54.3  ...           four   \n",
       "4        4wd               1      176.6       54.3  ...           five   \n",
       "\n",
       "  enginesize  fuelsystem boreratio  stroke  compressionratio  horsepower  \\\n",
       "0        130        mpfi      3.47    2.68               9.0         111   \n",
       "1        130        mpfi      3.47    2.68               9.0         111   \n",
       "2        152        mpfi      2.68    3.47               9.0         154   \n",
       "3        109        mpfi      3.19    3.40              10.0         102   \n",
       "4        136        mpfi      3.19    3.40               8.0         115   \n",
       "\n",
       "   peakrpm    price   mpg  \n",
       "0     5000  13495.0  24.0  \n",
       "1     5000  16500.0  24.0  \n",
       "2     5000  16500.0  22.5  \n",
       "3     5500  13950.0  27.0  \n",
       "4     5500  17450.0  20.0  \n",
       "\n",
       "[5 rows x 21 columns]"
      ]
     },
     "execution_count": 220,
     "metadata": {},
     "output_type": "execute_result"
    }
   ],
   "source": [
    "car_df.head()"
   ]
  },
  {
   "cell_type": "code",
   "execution_count": 221,
   "metadata": {},
   "outputs": [],
   "source": [
    "def createdummies(df,column):\n",
    "    status = pd.get_dummies(df[column])\n",
    "    df = pd.concat([df, status], axis = 1)\n",
    "    df.drop([column], axis = 1, inplace = True)\n",
    "    return df"
   ]
  },
  {
   "cell_type": "code",
   "execution_count": 222,
   "metadata": {},
   "outputs": [],
   "source": [
    "car_df=createdummies(car_df,'CarName')\n",
    "car_df=createdummies(car_df,'carbody')\n",
    "car_df=createdummies(car_df,'drivewheel')\n",
    "car_df=createdummies(car_df,'fuelsystem')\n",
    "car_df=createdummies(car_df,'cylindernumber')\n",
    "car_df=createdummies(car_df,'enginetype')"
   ]
  },
  {
   "cell_type": "code",
   "execution_count": 281,
   "metadata": {},
   "outputs": [],
   "source": [
    "from sklearn.model_selection import train_test_split\n",
    "\n",
    "# We specify this so that the train and test data set always have the same rows, respectively\n",
    "np.random.seed(0)\n",
    "df_train, df_test = train_test_split(car_df, train_size = 0.7, test_size = 0.3, random_state = 100)"
   ]
  },
  {
   "cell_type": "code",
   "execution_count": 224,
   "metadata": {},
   "outputs": [],
   "source": [
    "from sklearn.preprocessing import MinMaxScaler\n",
    "\n",
    "scaler = MinMaxScaler()"
   ]
  },
  {
   "cell_type": "code",
   "execution_count": 226,
   "metadata": {},
   "outputs": [],
   "source": [
    "# Apply scaler() to all the columns except the 'yes-no' and 'dummy' variables\n",
    "num_vars = ['symboling', 'carlength','carheight','enginesize','boreratio','stroke',\n",
    "           'compressionratio','horsepower','peakrpm','mpg','price']\n",
    "\n",
    "df_train[num_vars] = scaler.fit_transform(df_train[num_vars])"
   ]
  },
  {
   "cell_type": "code",
   "execution_count": 227,
   "metadata": {},
   "outputs": [
    {
     "data": {
      "text/html": [
       "<div>\n",
       "<style scoped>\n",
       "    .dataframe tbody tr th:only-of-type {\n",
       "        vertical-align: middle;\n",
       "    }\n",
       "\n",
       "    .dataframe tbody tr th {\n",
       "        vertical-align: top;\n",
       "    }\n",
       "\n",
       "    .dataframe thead th {\n",
       "        text-align: right;\n",
       "    }\n",
       "</style>\n",
       "<table border=\"1\" class=\"dataframe\">\n",
       "  <thead>\n",
       "    <tr style=\"text-align: right;\">\n",
       "      <th></th>\n",
       "      <th>symboling</th>\n",
       "      <th>fueltype</th>\n",
       "      <th>aspiration</th>\n",
       "      <th>doornumber</th>\n",
       "      <th>enginelocation</th>\n",
       "      <th>carlength</th>\n",
       "      <th>carheight</th>\n",
       "      <th>enginesize</th>\n",
       "      <th>boreratio</th>\n",
       "      <th>stroke</th>\n",
       "      <th>...</th>\n",
       "      <th>three</th>\n",
       "      <th>twelve</th>\n",
       "      <th>two</th>\n",
       "      <th>dohc</th>\n",
       "      <th>dohcv</th>\n",
       "      <th>l</th>\n",
       "      <th>ohc</th>\n",
       "      <th>ohcf</th>\n",
       "      <th>ohcv</th>\n",
       "      <th>rotor</th>\n",
       "    </tr>\n",
       "  </thead>\n",
       "  <tbody>\n",
       "    <tr>\n",
       "      <th>count</th>\n",
       "      <td>143.000000</td>\n",
       "      <td>143.000000</td>\n",
       "      <td>143.000000</td>\n",
       "      <td>143.000000</td>\n",
       "      <td>143.000000</td>\n",
       "      <td>143.000000</td>\n",
       "      <td>143.000000</td>\n",
       "      <td>143.000000</td>\n",
       "      <td>143.000000</td>\n",
       "      <td>143.000000</td>\n",
       "      <td>...</td>\n",
       "      <td>143.000000</td>\n",
       "      <td>143.000000</td>\n",
       "      <td>143.000000</td>\n",
       "      <td>143.000000</td>\n",
       "      <td>143.000000</td>\n",
       "      <td>143.000000</td>\n",
       "      <td>143.000000</td>\n",
       "      <td>143.000000</td>\n",
       "      <td>143.000000</td>\n",
       "      <td>143.000000</td>\n",
       "    </tr>\n",
       "    <tr>\n",
       "      <th>mean</th>\n",
       "      <td>0.559441</td>\n",
       "      <td>0.909091</td>\n",
       "      <td>0.818182</td>\n",
       "      <td>0.559441</td>\n",
       "      <td>0.993007</td>\n",
       "      <td>0.525476</td>\n",
       "      <td>0.509004</td>\n",
       "      <td>0.241351</td>\n",
       "      <td>0.497946</td>\n",
       "      <td>0.535389</td>\n",
       "      <td>...</td>\n",
       "      <td>0.006993</td>\n",
       "      <td>0.006993</td>\n",
       "      <td>0.027972</td>\n",
       "      <td>0.069930</td>\n",
       "      <td>0.006993</td>\n",
       "      <td>0.062937</td>\n",
       "      <td>0.685315</td>\n",
       "      <td>0.083916</td>\n",
       "      <td>0.062937</td>\n",
       "      <td>0.027972</td>\n",
       "    </tr>\n",
       "    <tr>\n",
       "      <th>std</th>\n",
       "      <td>0.239200</td>\n",
       "      <td>0.288490</td>\n",
       "      <td>0.387050</td>\n",
       "      <td>0.498199</td>\n",
       "      <td>0.083624</td>\n",
       "      <td>0.204848</td>\n",
       "      <td>0.215378</td>\n",
       "      <td>0.154619</td>\n",
       "      <td>0.207140</td>\n",
       "      <td>0.157843</td>\n",
       "      <td>...</td>\n",
       "      <td>0.083624</td>\n",
       "      <td>0.083624</td>\n",
       "      <td>0.165472</td>\n",
       "      <td>0.255926</td>\n",
       "      <td>0.083624</td>\n",
       "      <td>0.243703</td>\n",
       "      <td>0.466023</td>\n",
       "      <td>0.278236</td>\n",
       "      <td>0.243703</td>\n",
       "      <td>0.165472</td>\n",
       "    </tr>\n",
       "    <tr>\n",
       "      <th>min</th>\n",
       "      <td>0.000000</td>\n",
       "      <td>0.000000</td>\n",
       "      <td>0.000000</td>\n",
       "      <td>0.000000</td>\n",
       "      <td>0.000000</td>\n",
       "      <td>0.000000</td>\n",
       "      <td>0.000000</td>\n",
       "      <td>0.000000</td>\n",
       "      <td>0.000000</td>\n",
       "      <td>0.000000</td>\n",
       "      <td>...</td>\n",
       "      <td>0.000000</td>\n",
       "      <td>0.000000</td>\n",
       "      <td>0.000000</td>\n",
       "      <td>0.000000</td>\n",
       "      <td>0.000000</td>\n",
       "      <td>0.000000</td>\n",
       "      <td>0.000000</td>\n",
       "      <td>0.000000</td>\n",
       "      <td>0.000000</td>\n",
       "      <td>0.000000</td>\n",
       "    </tr>\n",
       "    <tr>\n",
       "      <th>25%</th>\n",
       "      <td>0.400000</td>\n",
       "      <td>1.000000</td>\n",
       "      <td>1.000000</td>\n",
       "      <td>0.000000</td>\n",
       "      <td>1.000000</td>\n",
       "      <td>0.399187</td>\n",
       "      <td>0.353982</td>\n",
       "      <td>0.135849</td>\n",
       "      <td>0.305556</td>\n",
       "      <td>0.464646</td>\n",
       "      <td>...</td>\n",
       "      <td>0.000000</td>\n",
       "      <td>0.000000</td>\n",
       "      <td>0.000000</td>\n",
       "      <td>0.000000</td>\n",
       "      <td>0.000000</td>\n",
       "      <td>0.000000</td>\n",
       "      <td>0.000000</td>\n",
       "      <td>0.000000</td>\n",
       "      <td>0.000000</td>\n",
       "      <td>0.000000</td>\n",
       "    </tr>\n",
       "    <tr>\n",
       "      <th>50%</th>\n",
       "      <td>0.600000</td>\n",
       "      <td>1.000000</td>\n",
       "      <td>1.000000</td>\n",
       "      <td>1.000000</td>\n",
       "      <td>1.000000</td>\n",
       "      <td>0.502439</td>\n",
       "      <td>0.522124</td>\n",
       "      <td>0.184906</td>\n",
       "      <td>0.500000</td>\n",
       "      <td>0.545455</td>\n",
       "      <td>...</td>\n",
       "      <td>0.000000</td>\n",
       "      <td>0.000000</td>\n",
       "      <td>0.000000</td>\n",
       "      <td>0.000000</td>\n",
       "      <td>0.000000</td>\n",
       "      <td>0.000000</td>\n",
       "      <td>1.000000</td>\n",
       "      <td>0.000000</td>\n",
       "      <td>0.000000</td>\n",
       "      <td>0.000000</td>\n",
       "    </tr>\n",
       "    <tr>\n",
       "      <th>75%</th>\n",
       "      <td>0.600000</td>\n",
       "      <td>1.000000</td>\n",
       "      <td>1.000000</td>\n",
       "      <td>1.000000</td>\n",
       "      <td>1.000000</td>\n",
       "      <td>0.669919</td>\n",
       "      <td>0.668142</td>\n",
       "      <td>0.301887</td>\n",
       "      <td>0.682540</td>\n",
       "      <td>0.611111</td>\n",
       "      <td>...</td>\n",
       "      <td>0.000000</td>\n",
       "      <td>0.000000</td>\n",
       "      <td>0.000000</td>\n",
       "      <td>0.000000</td>\n",
       "      <td>0.000000</td>\n",
       "      <td>0.000000</td>\n",
       "      <td>1.000000</td>\n",
       "      <td>0.000000</td>\n",
       "      <td>0.000000</td>\n",
       "      <td>0.000000</td>\n",
       "    </tr>\n",
       "    <tr>\n",
       "      <th>max</th>\n",
       "      <td>1.000000</td>\n",
       "      <td>1.000000</td>\n",
       "      <td>1.000000</td>\n",
       "      <td>1.000000</td>\n",
       "      <td>1.000000</td>\n",
       "      <td>1.000000</td>\n",
       "      <td>1.000000</td>\n",
       "      <td>1.000000</td>\n",
       "      <td>1.000000</td>\n",
       "      <td>1.000000</td>\n",
       "      <td>...</td>\n",
       "      <td>1.000000</td>\n",
       "      <td>1.000000</td>\n",
       "      <td>1.000000</td>\n",
       "      <td>1.000000</td>\n",
       "      <td>1.000000</td>\n",
       "      <td>1.000000</td>\n",
       "      <td>1.000000</td>\n",
       "      <td>1.000000</td>\n",
       "      <td>1.000000</td>\n",
       "      <td>1.000000</td>\n",
       "    </tr>\n",
       "  </tbody>\n",
       "</table>\n",
       "<p>8 rows × 67 columns</p>\n",
       "</div>"
      ],
      "text/plain": [
       "        symboling    fueltype  aspiration  doornumber  enginelocation  \\\n",
       "count  143.000000  143.000000  143.000000  143.000000      143.000000   \n",
       "mean     0.559441    0.909091    0.818182    0.559441        0.993007   \n",
       "std      0.239200    0.288490    0.387050    0.498199        0.083624   \n",
       "min      0.000000    0.000000    0.000000    0.000000        0.000000   \n",
       "25%      0.400000    1.000000    1.000000    0.000000        1.000000   \n",
       "50%      0.600000    1.000000    1.000000    1.000000        1.000000   \n",
       "75%      0.600000    1.000000    1.000000    1.000000        1.000000   \n",
       "max      1.000000    1.000000    1.000000    1.000000        1.000000   \n",
       "\n",
       "        carlength   carheight  enginesize   boreratio      stroke  ...  \\\n",
       "count  143.000000  143.000000  143.000000  143.000000  143.000000  ...   \n",
       "mean     0.525476    0.509004    0.241351    0.497946    0.535389  ...   \n",
       "std      0.204848    0.215378    0.154619    0.207140    0.157843  ...   \n",
       "min      0.000000    0.000000    0.000000    0.000000    0.000000  ...   \n",
       "25%      0.399187    0.353982    0.135849    0.305556    0.464646  ...   \n",
       "50%      0.502439    0.522124    0.184906    0.500000    0.545455  ...   \n",
       "75%      0.669919    0.668142    0.301887    0.682540    0.611111  ...   \n",
       "max      1.000000    1.000000    1.000000    1.000000    1.000000  ...   \n",
       "\n",
       "            three      twelve         two        dohc       dohcv           l  \\\n",
       "count  143.000000  143.000000  143.000000  143.000000  143.000000  143.000000   \n",
       "mean     0.006993    0.006993    0.027972    0.069930    0.006993    0.062937   \n",
       "std      0.083624    0.083624    0.165472    0.255926    0.083624    0.243703   \n",
       "min      0.000000    0.000000    0.000000    0.000000    0.000000    0.000000   \n",
       "25%      0.000000    0.000000    0.000000    0.000000    0.000000    0.000000   \n",
       "50%      0.000000    0.000000    0.000000    0.000000    0.000000    0.000000   \n",
       "75%      0.000000    0.000000    0.000000    0.000000    0.000000    0.000000   \n",
       "max      1.000000    1.000000    1.000000    1.000000    1.000000    1.000000   \n",
       "\n",
       "              ohc        ohcf        ohcv       rotor  \n",
       "count  143.000000  143.000000  143.000000  143.000000  \n",
       "mean     0.685315    0.083916    0.062937    0.027972  \n",
       "std      0.466023    0.278236    0.243703    0.165472  \n",
       "min      0.000000    0.000000    0.000000    0.000000  \n",
       "25%      0.000000    0.000000    0.000000    0.000000  \n",
       "50%      1.000000    0.000000    0.000000    0.000000  \n",
       "75%      1.000000    0.000000    0.000000    0.000000  \n",
       "max      1.000000    1.000000    1.000000    1.000000  \n",
       "\n",
       "[8 rows x 67 columns]"
      ]
     },
     "execution_count": 227,
     "metadata": {},
     "output_type": "execute_result"
    }
   ],
   "source": [
    "df_train.describe()"
   ]
  },
  {
   "cell_type": "code",
   "execution_count": 228,
   "metadata": {},
   "outputs": [],
   "source": [
    "y_train = df_train.pop('price')\n",
    "X_train = df_train"
   ]
  },
  {
   "cell_type": "code",
   "execution_count": 229,
   "metadata": {},
   "outputs": [
    {
     "data": {
      "text/plain": [
       "LinearRegression(copy_X=True, fit_intercept=True, n_jobs=None,\n",
       "         normalize=False)"
      ]
     },
     "execution_count": 229,
     "metadata": {},
     "output_type": "execute_result"
    }
   ],
   "source": [
    "# Running RFE with the output number of the variable equal to 10\n",
    "lm = LinearRegression()\n",
    "lm.fit(X_train, y_train)"
   ]
  },
  {
   "cell_type": "code",
   "execution_count": 230,
   "metadata": {},
   "outputs": [],
   "source": [
    "# Using TOP 20 features from RFE after expermenting with different values"
   ]
  },
  {
   "cell_type": "code",
   "execution_count": 231,
   "metadata": {},
   "outputs": [
    {
     "name": "stdout",
     "output_type": "stream",
     "text": [
      "[False False False False False  True False  True  True  True False False\n",
      " False False False  True  True  True False False False False False False\n",
      " False False False False False  True False False False False False False\n",
      " False False False False False False False False False False False False\n",
      " False False False False  True False  True False  True  True  True False\n",
      "  True False False False False  True]\n",
      "[48 25  5 51 41  1 16  1  1  1 52 35  4 50 15  1  1  1 21 17 20 34 19 43\n",
      " 46  6 26  2 14  1 23 10 28 45 24 11  9 32 31 33 37 44 36 40 38 27 39 29\n",
      " 47 42 18 49  1 12  1 22  1  1  1  8  1  3 13 30  7  1]\n"
     ]
    }
   ],
   "source": [
    "rfe =  RFE(lm,15)\n",
    "rfe=rfe.fit(X_train,y_train)\n",
    "print(rfe.support_)           \n",
    "print(rfe.ranking_)"
   ]
  },
  {
   "cell_type": "code",
   "execution_count": 232,
   "metadata": {},
   "outputs": [
    {
     "data": {
      "text/plain": [
       "Index(['carlength', 'enginesize', 'boreratio', 'stroke', 'audi', 'bmw',\n",
       "       'buick', 'porsche', 'eight', 'four', 'three', 'twelve', 'two', 'dohcv',\n",
       "       'rotor'],\n",
       "      dtype='object')"
      ]
     },
     "execution_count": 232,
     "metadata": {},
     "output_type": "execute_result"
    }
   ],
   "source": [
    "X_train.columns[rfe.support_]"
   ]
  },
  {
   "cell_type": "code",
   "execution_count": 233,
   "metadata": {},
   "outputs": [],
   "source": [
    "#Top Drivers\n",
    "#'aspiration', 'carlength', 'enginesize', 'boreratio', 'stroke',\n",
    "#'peakrpm', 'audi', 'bmw', 'buick', 'mitsubishi', 'peugeot', 'porsche',\n",
    "#'eight', 'four', 'three', 'twelve', 'two', 'dohcv', 'l', 'rotor'\n",
    "\n",
    "varlist=['carlength', 'enginesize', 'boreratio', 'stroke', 'audi', 'bmw',\n",
    "       'buick', 'porsche', 'eight', 'four', 'three', 'twelve', 'two', 'dohcv',\n",
    "       'rotor']"
   ]
  },
  {
   "cell_type": "code",
   "execution_count": 257,
   "metadata": {},
   "outputs": [],
   "source": [
    "X_train_new=X_train[varlist]"
   ]
  },
  {
   "cell_type": "code",
   "execution_count": 258,
   "metadata": {},
   "outputs": [],
   "source": [
    "def getdetails(X_train_new,y_train):\n",
    "    X_train_new = sm.add_constant(X_train_new)\n",
    "    lr = sm.OLS(y_train,X_train_new).fit()\n",
    "    #Let's see the summary of our linear model\n",
    "    print(lr.summary())\n",
    "    X_train_new = X_train_new.drop(['const'], axis=1)\n",
    "    vif = pd.DataFrame()\n",
    "    X = X_train_new\n",
    "    vif['Features'] = X.columns\n",
    "    vif['VIF'] = [variance_inflation_factor(X.values, i) for i in range(X.shape[1])]\n",
    "    vif['VIF'] = round(vif['VIF'], 2)\n",
    "    vif = vif.sort_values(by = \"VIF\", ascending = False)\n",
    "    print(vif)\n",
    "    return lr"
   ]
  },
  {
   "cell_type": "code",
   "execution_count": 259,
   "metadata": {},
   "outputs": [
    {
     "name": "stdout",
     "output_type": "stream",
     "text": [
      "                            OLS Regression Results                            \n",
      "==============================================================================\n",
      "Dep. Variable:                  price   R-squared:                       0.913\n",
      "Model:                            OLS   Adj. R-squared:                  0.904\n",
      "Method:                 Least Squares   F-statistic:                     96.18\n",
      "Date:                Mon, 15 Jul 2019   Prob (F-statistic):           8.94e-61\n",
      "Time:                        08:13:15   Log-Likelihood:                 191.70\n",
      "No. Observations:                 143   AIC:                            -353.4\n",
      "Df Residuals:                     128   BIC:                            -309.0\n",
      "Df Model:                          14                                         \n",
      "Covariance Type:            nonrobust                                         \n",
      "==============================================================================\n",
      "                 coef    std err          t      P>|t|      [0.025      0.975]\n",
      "------------------------------------------------------------------------------\n",
      "const         -0.1810      0.042     -4.264      0.000      -0.265      -0.097\n",
      "carlength      0.2509      0.050      4.973      0.000       0.151       0.351\n",
      "enginesize     1.6143      0.200      8.052      0.000       1.218       2.011\n",
      "boreratio     -0.3174      0.077     -4.147      0.000      -0.469      -0.166\n",
      "stroke        -0.2504      0.065     -3.859      0.000      -0.379      -0.122\n",
      "audi           0.2066      0.044      4.725      0.000       0.120       0.293\n",
      "bmw            0.2318      0.031      7.422      0.000       0.170       0.294\n",
      "buick          0.2739      0.046      5.900      0.000       0.182       0.366\n",
      "porsche        0.3306      0.054      6.158      0.000       0.224       0.437\n",
      "eight         -0.2255      0.086     -2.633      0.009      -0.395      -0.056\n",
      "four           0.1718      0.049      3.515      0.001       0.075       0.269\n",
      "three          0.3461      0.092      3.775      0.000       0.165       0.528\n",
      "twelve        -0.4977      0.136     -3.671      0.000      -0.766      -0.229\n",
      "two            0.2570      0.043      6.023      0.000       0.173       0.341\n",
      "dohcv          0.2297      0.123      1.868      0.064      -0.014       0.473\n",
      "rotor          0.2570      0.043      6.023      0.000       0.173       0.341\n",
      "==============================================================================\n",
      "Omnibus:                       21.115   Durbin-Watson:                   2.002\n",
      "Prob(Omnibus):                  0.000   Jarque-Bera (JB):               30.168\n",
      "Skew:                           0.794   Prob(JB):                     2.81e-07\n",
      "Kurtosis:                       4.595   Cond. No.                     2.19e+17\n",
      "==============================================================================\n",
      "\n",
      "Warnings:\n",
      "[1] Standard Errors assume that the covariance matrix of the errors is correctly specified.\n",
      "[2] The smallest eigenvalue is 7.35e-33. This might indicate that there are\n",
      "strong multicollinearity problems or that the design matrix is singular.\n",
      "      Features    VIF\n",
      "12         two    inf\n",
      "14       rotor    inf\n",
      "1   enginesize  78.52\n",
      "2    boreratio  47.79\n",
      "3       stroke  41.59\n",
      "9         four  28.62\n",
      "0    carlength  24.85\n",
      "8        eight   4.56\n",
      "11      twelve   3.61\n",
      "13       dohcv   3.18\n",
      "6        buick   2.29\n",
      "7      porsche   1.91\n",
      "4         audi   1.63\n",
      "10       three   1.33\n",
      "5          bmw   1.24\n"
     ]
    }
   ],
   "source": [
    "lr_1=getdetails(X_train_new,y_train)"
   ]
  },
  {
   "cell_type": "code",
   "execution_count": 260,
   "metadata": {},
   "outputs": [
    {
     "name": "stdout",
     "output_type": "stream",
     "text": [
      "                            OLS Regression Results                            \n",
      "==============================================================================\n",
      "Dep. Variable:                  price   R-squared:                       0.911\n",
      "Model:                            OLS   Adj. R-squared:                  0.902\n",
      "Method:                 Least Squares   F-statistic:                     101.4\n",
      "Date:                Mon, 15 Jul 2019   Prob (F-statistic):           4.78e-61\n",
      "Time:                        08:13:18   Log-Likelihood:                 189.78\n",
      "No. Observations:                 143   AIC:                            -351.6\n",
      "Df Residuals:                     129   BIC:                            -310.1\n",
      "Df Model:                          13                                         \n",
      "Covariance Type:            nonrobust                                         \n",
      "==============================================================================\n",
      "                 coef    std err          t      P>|t|      [0.025      0.975]\n",
      "------------------------------------------------------------------------------\n",
      "const         -0.1619      0.042     -3.892      0.000      -0.244      -0.080\n",
      "carlength      0.2538      0.051      4.986      0.000       0.153       0.355\n",
      "enginesize     1.4123      0.170      8.286      0.000       1.075       1.749\n",
      "boreratio     -0.2487      0.068     -3.670      0.000      -0.383      -0.115\n",
      "stroke        -0.1913      0.057     -3.345      0.001      -0.304      -0.078\n",
      "audi           0.1785      0.041      4.307      0.000       0.096       0.260\n",
      "bmw            0.2296      0.032      7.289      0.000       0.167       0.292\n",
      "buick          0.2302      0.040      5.686      0.000       0.150       0.310\n",
      "porsche        0.3651      0.051      7.177      0.000       0.264       0.466\n",
      "eight         -0.1071      0.058     -1.843      0.068      -0.222       0.008\n",
      "four           0.1247      0.042      2.950      0.004       0.041       0.208\n",
      "three          0.2894      0.087      3.314      0.001       0.117       0.462\n",
      "twelve        -0.3812      0.122     -3.137      0.002      -0.622      -0.141\n",
      "two            0.2175      0.037      5.813      0.000       0.143       0.292\n",
      "rotor          0.2175      0.037      5.813      0.000       0.143       0.292\n",
      "==============================================================================\n",
      "Omnibus:                       17.437   Durbin-Watson:                   2.030\n",
      "Prob(Omnibus):                  0.000   Jarque-Bera (JB):               23.883\n",
      "Skew:                           0.685   Prob(JB):                     6.51e-06\n",
      "Kurtosis:                       4.460   Cond. No.                     1.28e+17\n",
      "==============================================================================\n",
      "\n",
      "Warnings:\n",
      "[1] Standard Errors assume that the covariance matrix of the errors is correctly specified.\n",
      "[2] The smallest eigenvalue is 2.15e-32. This might indicate that there are\n",
      "strong multicollinearity problems or that the design matrix is singular.\n",
      "      Features    VIF\n",
      "12         two    inf\n",
      "13       rotor    inf\n",
      "1   enginesize  59.00\n",
      "2    boreratio  38.69\n",
      "3       stroke  31.82\n",
      "0    carlength  24.68\n",
      "9         four  21.38\n",
      "11      twelve   2.99\n",
      "8        eight   2.18\n",
      "6        buick   1.77\n",
      "7      porsche   1.64\n",
      "4         audi   1.52\n",
      "10       three   1.25\n",
      "5          bmw   1.24\n"
     ]
    }
   ],
   "source": [
    "col_2=X_train_new.pop('dohcv')\n",
    "lr_2=getdetails(X_train_new,y_train)"
   ]
  },
  {
   "cell_type": "code",
   "execution_count": 261,
   "metadata": {},
   "outputs": [
    {
     "name": "stdout",
     "output_type": "stream",
     "text": [
      "                            OLS Regression Results                            \n",
      "==============================================================================\n",
      "Dep. Variable:                  price   R-squared:                       0.908\n",
      "Model:                            OLS   Adj. R-squared:                  0.900\n",
      "Method:                 Least Squares   F-statistic:                     107.5\n",
      "Date:                Mon, 15 Jul 2019   Prob (F-statistic):           2.37e-61\n",
      "Time:                        08:13:19   Log-Likelihood:                 187.92\n",
      "No. Observations:                 143   AIC:                            -349.8\n",
      "Df Residuals:                     130   BIC:                            -311.3\n",
      "Df Model:                          12                                         \n",
      "Covariance Type:            nonrobust                                         \n",
      "==============================================================================\n",
      "                 coef    std err          t      P>|t|      [0.025      0.975]\n",
      "------------------------------------------------------------------------------\n",
      "const         -0.1516      0.042     -3.644      0.000      -0.234      -0.069\n",
      "carlength      0.2589      0.051      5.047      0.000       0.157       0.360\n",
      "enginesize     1.2527      0.148      8.456      0.000       0.960       1.546\n",
      "boreratio     -0.1975      0.062     -3.167      0.002      -0.321      -0.074\n",
      "stroke        -0.1442      0.052     -2.793      0.006      -0.246      -0.042\n",
      "audi           0.1601      0.041      3.944      0.000       0.080       0.240\n",
      "bmw            0.2315      0.032      7.287      0.000       0.169       0.294\n",
      "buick          0.1945      0.036      5.422      0.000       0.124       0.265\n",
      "porsche        0.3319      0.048      6.914      0.000       0.237       0.427\n",
      "four           0.0927      0.039      2.383      0.019       0.016       0.170\n",
      "three          0.2498      0.085      2.924      0.004       0.081       0.419\n",
      "twelve        -0.2846      0.111     -2.572      0.011      -0.504      -0.066\n",
      "two            0.1888      0.034      5.499      0.000       0.121       0.257\n",
      "rotor          0.1888      0.034      5.499      0.000       0.121       0.257\n",
      "==============================================================================\n",
      "Omnibus:                       16.796   Durbin-Watson:                   2.043\n",
      "Prob(Omnibus):                  0.000   Jarque-Bera (JB):               22.028\n",
      "Skew:                           0.684   Prob(JB):                     1.65e-05\n",
      "Kurtosis:                       4.351   Cond. No.                     1.05e+17\n",
      "==============================================================================\n",
      "\n",
      "Warnings:\n",
      "[1] Standard Errors assume that the covariance matrix of the errors is correctly specified.\n",
      "[2] The smallest eigenvalue is 3.2e-32. This might indicate that there are\n",
      "strong multicollinearity problems or that the design matrix is singular.\n",
      "      Features    VIF\n",
      "11         two    inf\n",
      "12       rotor    inf\n",
      "1   enginesize  43.84\n",
      "2    boreratio  32.75\n",
      "3       stroke  25.15\n",
      "0    carlength  24.50\n",
      "8         four  17.14\n",
      "10      twelve   2.48\n",
      "4         audi   1.45\n",
      "7      porsche   1.45\n",
      "6        buick   1.38\n",
      "5          bmw   1.23\n",
      "9        three   1.20\n"
     ]
    }
   ],
   "source": [
    "col_3=X_train_new.pop('eight')\n",
    "lr_3=getdetails(X_train_new,y_train)"
   ]
  },
  {
   "cell_type": "code",
   "execution_count": 262,
   "metadata": {},
   "outputs": [
    {
     "name": "stdout",
     "output_type": "stream",
     "text": [
      "                            OLS Regression Results                            \n",
      "==============================================================================\n",
      "Dep. Variable:                  price   R-squared:                       0.908\n",
      "Model:                            OLS   Adj. R-squared:                  0.900\n",
      "Method:                 Least Squares   F-statistic:                     107.5\n",
      "Date:                Mon, 15 Jul 2019   Prob (F-statistic):           2.37e-61\n",
      "Time:                        08:13:20   Log-Likelihood:                 187.92\n",
      "No. Observations:                 143   AIC:                            -349.8\n",
      "Df Residuals:                     130   BIC:                            -311.3\n",
      "Df Model:                          12                                         \n",
      "Covariance Type:            nonrobust                                         \n",
      "==============================================================================\n",
      "                 coef    std err          t      P>|t|      [0.025      0.975]\n",
      "------------------------------------------------------------------------------\n",
      "const         -0.1516      0.042     -3.644      0.000      -0.234      -0.069\n",
      "carlength      0.2589      0.051      5.047      0.000       0.157       0.360\n",
      "enginesize     1.2527      0.148      8.456      0.000       0.960       1.546\n",
      "boreratio     -0.1975      0.062     -3.167      0.002      -0.321      -0.074\n",
      "stroke        -0.1442      0.052     -2.793      0.006      -0.246      -0.042\n",
      "audi           0.1601      0.041      3.944      0.000       0.080       0.240\n",
      "bmw            0.2315      0.032      7.287      0.000       0.169       0.294\n",
      "buick          0.1945      0.036      5.422      0.000       0.124       0.265\n",
      "porsche        0.3319      0.048      6.914      0.000       0.237       0.427\n",
      "four           0.0927      0.039      2.383      0.019       0.016       0.170\n",
      "three          0.2498      0.085      2.924      0.004       0.081       0.419\n",
      "twelve        -0.2846      0.111     -2.572      0.011      -0.504      -0.066\n",
      "rotor          0.3776      0.069      5.499      0.000       0.242       0.513\n",
      "==============================================================================\n",
      "Omnibus:                       16.796   Durbin-Watson:                   2.043\n",
      "Prob(Omnibus):                  0.000   Jarque-Bera (JB):               22.028\n",
      "Skew:                           0.684   Prob(JB):                     1.65e-05\n",
      "Kurtosis:                       4.351   Cond. No.                         55.3\n",
      "==============================================================================\n",
      "\n",
      "Warnings:\n",
      "[1] Standard Errors assume that the covariance matrix of the errors is correctly specified.\n",
      "      Features    VIF\n",
      "1   enginesize  43.84\n",
      "2    boreratio  32.75\n",
      "3       stroke  25.15\n",
      "0    carlength  24.50\n",
      "8         four  17.14\n",
      "11       rotor   2.82\n",
      "10      twelve   2.48\n",
      "4         audi   1.45\n",
      "7      porsche   1.45\n",
      "6        buick   1.38\n",
      "5          bmw   1.23\n",
      "9        three   1.20\n"
     ]
    }
   ],
   "source": [
    "col_4=X_train_new.pop('two')\n",
    "lr_4=getdetails(X_train_new,y_train)"
   ]
  },
  {
   "cell_type": "code",
   "execution_count": 264,
   "metadata": {},
   "outputs": [
    {
     "name": "stdout",
     "output_type": "stream",
     "text": [
      "                            OLS Regression Results                            \n",
      "==============================================================================\n",
      "Dep. Variable:                  price   R-squared:                       0.901\n",
      "Model:                            OLS   Adj. R-squared:                  0.893\n",
      "Method:                 Least Squares   F-statistic:                     108.9\n",
      "Date:                Mon, 15 Jul 2019   Prob (F-statistic):           2.67e-60\n",
      "Time:                        08:13:48   Log-Likelihood:                 182.61\n",
      "No. Observations:                 143   AIC:                            -341.2\n",
      "Df Residuals:                     131   BIC:                            -305.7\n",
      "Df Model:                          11                                         \n",
      "Covariance Type:            nonrobust                                         \n",
      "==============================================================================\n",
      "                 coef    std err          t      P>|t|      [0.025      0.975]\n",
      "------------------------------------------------------------------------------\n",
      "const         -0.1200      0.042     -2.874      0.005      -0.203      -0.037\n",
      "carlength      0.1905      0.048      3.960      0.000       0.095       0.286\n",
      "enginesize     0.9289      0.111      8.382      0.000       0.710       1.148\n",
      "stroke        -0.0450      0.042     -1.061      0.291      -0.129       0.039\n",
      "audi           0.1281      0.041      3.152      0.002       0.048       0.209\n",
      "bmw            0.2258      0.033      6.884      0.000       0.161       0.291\n",
      "buick          0.1998      0.037      5.394      0.000       0.127       0.273\n",
      "porsche        0.2812      0.047      6.011      0.000       0.189       0.374\n",
      "four           0.0074      0.029      0.254      0.800      -0.050       0.065\n",
      "three          0.1401      0.081      1.735      0.085      -0.020       0.300\n",
      "twelve        -0.0994      0.097     -1.024      0.308      -0.292       0.093\n",
      "rotor          0.2358      0.054      4.381      0.000       0.129       0.342\n",
      "==============================================================================\n",
      "Omnibus:                       12.611   Durbin-Watson:                   2.034\n",
      "Prob(Omnibus):                  0.002   Jarque-Bera (JB):               14.876\n",
      "Skew:                           0.579   Prob(JB):                     0.000588\n",
      "Kurtosis:                       4.076   Cond. No.                         37.6\n",
      "==============================================================================\n",
      "\n",
      "Warnings:\n",
      "[1] Standard Errors assume that the covariance matrix of the errors is correctly specified.\n",
      "      Features    VIF\n",
      "1   enginesize  24.02\n",
      "0    carlength  20.78\n",
      "2       stroke  14.19\n",
      "7         four   7.14\n",
      "9       twelve   1.86\n",
      "10       rotor   1.66\n",
      "3         audi   1.41\n",
      "5        buick   1.37\n",
      "6      porsche   1.31\n",
      "4          bmw   1.23\n",
      "8        three   1.06\n"
     ]
    }
   ],
   "source": [
    "col_5=X_train_new.pop('boreratio')\n",
    "lr_5=getdetails(X_train_new,y_train)"
   ]
  },
  {
   "cell_type": "code",
   "execution_count": 265,
   "metadata": {},
   "outputs": [
    {
     "name": "stdout",
     "output_type": "stream",
     "text": [
      "                            OLS Regression Results                            \n",
      "==============================================================================\n",
      "Dep. Variable:                  price   R-squared:                       0.901\n",
      "Model:                            OLS   Adj. R-squared:                  0.894\n",
      "Method:                 Least Squares   F-statistic:                     120.6\n",
      "Date:                Mon, 15 Jul 2019   Prob (F-statistic):           2.44e-61\n",
      "Time:                        08:14:19   Log-Likelihood:                 182.57\n",
      "No. Observations:                 143   AIC:                            -343.1\n",
      "Df Residuals:                     132   BIC:                            -310.6\n",
      "Df Model:                          10                                         \n",
      "Covariance Type:            nonrobust                                         \n",
      "==============================================================================\n",
      "                 coef    std err          t      P>|t|      [0.025      0.975]\n",
      "------------------------------------------------------------------------------\n",
      "const         -0.1118      0.026     -4.257      0.000      -0.164      -0.060\n",
      "carlength      0.1937      0.046      4.188      0.000       0.102       0.285\n",
      "enginesize     0.9093      0.079     11.442      0.000       0.752       1.067\n",
      "stroke        -0.0434      0.042     -1.038      0.301      -0.126       0.039\n",
      "audi           0.1220      0.033      3.719      0.000       0.057       0.187\n",
      "bmw            0.2237      0.032      7.073      0.000       0.161       0.286\n",
      "buick          0.1984      0.036      5.441      0.000       0.126       0.270\n",
      "porsche        0.2822      0.046      6.071      0.000       0.190       0.374\n",
      "three          0.1311      0.072      1.810      0.073      -0.012       0.274\n",
      "twelve        -0.0912      0.091     -0.999      0.319      -0.272       0.089\n",
      "rotor          0.2261      0.038      5.986      0.000       0.151       0.301\n",
      "==============================================================================\n",
      "Omnibus:                       12.695   Durbin-Watson:                   2.036\n",
      "Prob(Omnibus):                  0.002   Jarque-Bera (JB):               15.160\n",
      "Skew:                           0.575   Prob(JB):                     0.000511\n",
      "Kurtosis:                       4.105   Cond. No.                         25.6\n",
      "==============================================================================\n",
      "\n",
      "Warnings:\n",
      "[1] Standard Errors assume that the covariance matrix of the errors is correctly specified.\n",
      "     Features    VIF\n",
      "1  enginesize  13.86\n",
      "0   carlength  13.68\n",
      "2      stroke   7.08\n",
      "8      twelve   1.62\n",
      "5       buick   1.34\n",
      "6     porsche   1.25\n",
      "4         bmw   1.21\n",
      "9       rotor   1.16\n",
      "3        audi   1.07\n",
      "7       three   1.03\n"
     ]
    }
   ],
   "source": [
    "col_6=X_train_new.pop('four')\n",
    "lr_6=getdetails(X_train_new,y_train)"
   ]
  },
  {
   "cell_type": "code",
   "execution_count": 266,
   "metadata": {},
   "outputs": [
    {
     "name": "stdout",
     "output_type": "stream",
     "text": [
      "                            OLS Regression Results                            \n",
      "==============================================================================\n",
      "Dep. Variable:                  price   R-squared:                       0.901\n",
      "Model:                            OLS   Adj. R-squared:                  0.894\n",
      "Method:                 Least Squares   F-statistic:                     133.9\n",
      "Date:                Mon, 15 Jul 2019   Prob (F-statistic):           3.36e-62\n",
      "Time:                        08:14:30   Log-Likelihood:                 182.03\n",
      "No. Observations:                 143   AIC:                            -344.1\n",
      "Df Residuals:                     133   BIC:                            -314.4\n",
      "Df Model:                           9                                         \n",
      "Covariance Type:            nonrobust                                         \n",
      "==============================================================================\n",
      "                 coef    std err          t      P>|t|      [0.025      0.975]\n",
      "------------------------------------------------------------------------------\n",
      "const         -0.1171      0.026     -4.549      0.000      -0.168      -0.066\n",
      "carlength      0.2089      0.044      4.786      0.000       0.123       0.295\n",
      "enginesize     0.8608      0.063     13.683      0.000       0.736       0.985\n",
      "stroke        -0.0292      0.039     -0.742      0.459      -0.107       0.049\n",
      "audi           0.1214      0.033      3.701      0.000       0.057       0.186\n",
      "bmw            0.2307      0.031      7.485      0.000       0.170       0.292\n",
      "buick          0.2079      0.035      5.904      0.000       0.138       0.277\n",
      "porsche        0.2961      0.044      6.681      0.000       0.208       0.384\n",
      "three          0.1303      0.072      1.799      0.074      -0.013       0.274\n",
      "rotor          0.2189      0.037      5.903      0.000       0.146       0.292\n",
      "==============================================================================\n",
      "Omnibus:                       14.021   Durbin-Watson:                   2.035\n",
      "Prob(Omnibus):                  0.001   Jarque-Bera (JB):               16.437\n",
      "Skew:                           0.641   Prob(JB):                     0.000270\n",
      "Kurtosis:                       4.056   Cond. No.                         16.9\n",
      "==============================================================================\n",
      "\n",
      "Warnings:\n",
      "[1] Standard Errors assume that the covariance matrix of the errors is correctly specified.\n",
      "     Features    VIF\n",
      "0   carlength  12.70\n",
      "1  enginesize   9.03\n",
      "2      stroke   6.47\n",
      "5       buick   1.23\n",
      "4         bmw   1.16\n",
      "6     porsche   1.16\n",
      "8       rotor   1.11\n",
      "3        audi   1.07\n",
      "7       three   1.03\n"
     ]
    }
   ],
   "source": [
    "col_7=X_train_new.pop('twelve')\n",
    "lr_7=getdetails(X_train_new,y_train)"
   ]
  },
  {
   "cell_type": "code",
   "execution_count": 267,
   "metadata": {},
   "outputs": [
    {
     "name": "stdout",
     "output_type": "stream",
     "text": [
      "                            OLS Regression Results                            \n",
      "==============================================================================\n",
      "Dep. Variable:                  price   R-squared:                       0.900\n",
      "Model:                            OLS   Adj. R-squared:                  0.894\n",
      "Method:                 Least Squares   F-statistic:                     151.1\n",
      "Date:                Mon, 15 Jul 2019   Prob (F-statistic):           3.47e-63\n",
      "Time:                        08:14:47   Log-Likelihood:                 181.74\n",
      "No. Observations:                 143   AIC:                            -345.5\n",
      "Df Residuals:                     134   BIC:                            -318.8\n",
      "Df Model:                           8                                         \n",
      "Covariance Type:            nonrobust                                         \n",
      "==============================================================================\n",
      "                 coef    std err          t      P>|t|      [0.025      0.975]\n",
      "------------------------------------------------------------------------------\n",
      "const         -0.1310      0.018     -7.486      0.000      -0.166      -0.096\n",
      "carlength      0.2102      0.044      4.827      0.000       0.124       0.296\n",
      "enginesize     0.8507      0.061     13.871      0.000       0.729       0.972\n",
      "audi           0.1195      0.033      3.659      0.000       0.055       0.184\n",
      "bmw            0.2331      0.031      7.620      0.000       0.173       0.294\n",
      "buick          0.2080      0.035      5.917      0.000       0.138       0.277\n",
      "porsche        0.3016      0.044      6.910      0.000       0.215       0.388\n",
      "three          0.1319      0.072      1.825      0.070      -0.011       0.275\n",
      "rotor          0.2171      0.037      5.877      0.000       0.144       0.290\n",
      "==============================================================================\n",
      "Omnibus:                       13.068   Durbin-Watson:                   2.006\n",
      "Prob(Omnibus):                  0.001   Jarque-Bera (JB):               14.948\n",
      "Skew:                           0.617   Prob(JB):                     0.000568\n",
      "Kurtosis:                       3.994   Cond. No.                         14.9\n",
      "==============================================================================\n",
      "\n",
      "Warnings:\n",
      "[1] Standard Errors assume that the covariance matrix of the errors is correctly specified.\n",
      "     Features   VIF\n",
      "1  enginesize  8.93\n",
      "0   carlength  8.20\n",
      "4       buick  1.20\n",
      "5     porsche  1.15\n",
      "3         bmw  1.13\n",
      "7       rotor  1.10\n",
      "2        audi  1.07\n",
      "6       three  1.00\n"
     ]
    }
   ],
   "source": [
    "col_8=X_train_new.pop('stroke')\n",
    "lr_8=getdetails(X_train_new,y_train)"
   ]
  },
  {
   "cell_type": "code",
   "execution_count": 268,
   "metadata": {},
   "outputs": [
    {
     "name": "stdout",
     "output_type": "stream",
     "text": [
      "                            OLS Regression Results                            \n",
      "==============================================================================\n",
      "Dep. Variable:                  price   R-squared:                       0.898\n",
      "Model:                            OLS   Adj. R-squared:                  0.892\n",
      "Method:                 Least Squares   F-statistic:                     169.3\n",
      "Date:                Mon, 15 Jul 2019   Prob (F-statistic):           1.32e-63\n",
      "Time:                        08:14:54   Log-Likelihood:                 179.98\n",
      "No. Observations:                 143   AIC:                            -344.0\n",
      "Df Residuals:                     135   BIC:                            -320.3\n",
      "Df Model:                           7                                         \n",
      "Covariance Type:            nonrobust                                         \n",
      "==============================================================================\n",
      "                 coef    std err          t      P>|t|      [0.025      0.975]\n",
      "------------------------------------------------------------------------------\n",
      "const         -0.1233      0.017     -7.198      0.000      -0.157      -0.089\n",
      "carlength      0.1962      0.043      4.538      0.000       0.111       0.282\n",
      "enginesize     0.8524      0.062     13.781      0.000       0.730       0.975\n",
      "audi           0.1210      0.033      3.674      0.000       0.056       0.186\n",
      "bmw            0.2348      0.031      7.610      0.000       0.174       0.296\n",
      "buick          0.2113      0.035      5.968      0.000       0.141       0.281\n",
      "porsche        0.2999      0.044      6.815      0.000       0.213       0.387\n",
      "rotor          0.2156      0.037      5.789      0.000       0.142       0.289\n",
      "==============================================================================\n",
      "Omnibus:                       14.066   Durbin-Watson:                   1.968\n",
      "Prob(Omnibus):                  0.001   Jarque-Bera (JB):               16.055\n",
      "Skew:                           0.661   Prob(JB):                     0.000326\n",
      "Kurtosis:                       3.972   Cond. No.                         14.5\n",
      "==============================================================================\n",
      "\n",
      "Warnings:\n",
      "[1] Standard Errors assume that the covariance matrix of the errors is correctly specified.\n",
      "     Features   VIF\n",
      "1  enginesize  8.93\n",
      "0   carlength  8.20\n",
      "4       buick  1.20\n",
      "5     porsche  1.15\n",
      "3         bmw  1.13\n",
      "6       rotor  1.10\n",
      "2        audi  1.07\n"
     ]
    }
   ],
   "source": [
    "col_9=X_train_new.pop('three')\n",
    "lr_9=getdetails(X_train_new,y_train)"
   ]
  },
  {
   "cell_type": "code",
   "execution_count": 269,
   "metadata": {},
   "outputs": [
    {
     "name": "stdout",
     "output_type": "stream",
     "text": [
      "                            OLS Regression Results                            \n",
      "==============================================================================\n",
      "Dep. Variable:                  price   R-squared:                       0.754\n",
      "Model:                            OLS   Adj. R-squared:                  0.743\n",
      "Method:                 Least Squares   F-statistic:                     69.43\n",
      "Date:                Mon, 15 Jul 2019   Prob (F-statistic):           5.50e-39\n",
      "Time:                        08:15:18   Log-Likelihood:                 117.19\n",
      "No. Observations:                 143   AIC:                            -220.4\n",
      "Df Residuals:                     136   BIC:                            -199.6\n",
      "Df Model:                           6                                         \n",
      "Covariance Type:            nonrobust                                         \n",
      "==============================================================================\n",
      "                 coef    std err          t      P>|t|      [0.025      0.975]\n",
      "------------------------------------------------------------------------------\n",
      "const         -0.1374      0.026     -5.199      0.000      -0.190      -0.085\n",
      "carlength      0.6008      0.049     12.251      0.000       0.504       0.698\n",
      "audi           0.0909      0.051      1.790      0.076      -0.010       0.191\n",
      "bmw            0.3093      0.047      6.589      0.000       0.216       0.402\n",
      "buick          0.3389      0.053      6.417      0.000       0.234       0.443\n",
      "porsche        0.5075      0.064      7.941      0.000       0.381       0.634\n",
      "rotor          0.0831      0.056      1.495      0.137      -0.027       0.193\n",
      "==============================================================================\n",
      "Omnibus:                       56.143   Durbin-Watson:                   2.182\n",
      "Prob(Omnibus):                  0.000   Jarque-Bera (JB):              158.162\n",
      "Skew:                           1.558   Prob(JB):                     4.52e-35\n",
      "Kurtosis:                       7.104   Cond. No.                         8.09\n",
      "==============================================================================\n",
      "\n",
      "Warnings:\n",
      "[1] Standard Errors assume that the covariance matrix of the errors is correctly specified.\n",
      "    Features   VIF\n",
      "0  carlength  1.30\n",
      "3      buick  1.10\n",
      "2        bmw  1.09\n",
      "1       audi  1.07\n",
      "4    porsche  1.02\n",
      "5      rotor  1.02\n"
     ]
    }
   ],
   "source": [
    "col_10=X_train_new.pop('enginesize')\n",
    "lr_10=getdetails(X_train_new,y_train)"
   ]
  },
  {
   "cell_type": "code",
   "execution_count": 270,
   "metadata": {},
   "outputs": [
    {
     "name": "stdout",
     "output_type": "stream",
     "text": [
      "                            OLS Regression Results                            \n",
      "==============================================================================\n",
      "Dep. Variable:                  price   R-squared:                       0.750\n",
      "Model:                            OLS   Adj. R-squared:                  0.741\n",
      "Method:                 Least Squares   F-statistic:                     82.13\n",
      "Date:                Mon, 15 Jul 2019   Prob (F-statistic):           1.72e-39\n",
      "Time:                        08:15:32   Log-Likelihood:                 116.02\n",
      "No. Observations:                 143   AIC:                            -220.0\n",
      "Df Residuals:                     137   BIC:                            -202.3\n",
      "Df Model:                           5                                         \n",
      "Covariance Type:            nonrobust                                         \n",
      "==============================================================================\n",
      "                 coef    std err          t      P>|t|      [0.025      0.975]\n",
      "------------------------------------------------------------------------------\n",
      "const         -0.1333      0.026     -5.048      0.000      -0.185      -0.081\n",
      "carlength      0.5979      0.049     12.146      0.000       0.501       0.695\n",
      "audi           0.0888      0.051      1.741      0.084      -0.012       0.190\n",
      "bmw            0.3073      0.047      6.519      0.000       0.214       0.400\n",
      "buick          0.3372      0.053      6.358      0.000       0.232       0.442\n",
      "porsche        0.5048      0.064      7.867      0.000       0.378       0.632\n",
      "==============================================================================\n",
      "Omnibus:                       53.208   Durbin-Watson:                   2.203\n",
      "Prob(Omnibus):                  0.000   Jarque-Bera (JB):              140.705\n",
      "Skew:                           1.499   Prob(JB):                     2.79e-31\n",
      "Kurtosis:                       6.824   Cond. No.                         8.09\n",
      "==============================================================================\n",
      "\n",
      "Warnings:\n",
      "[1] Standard Errors assume that the covariance matrix of the errors is correctly specified.\n",
      "    Features   VIF\n",
      "0  carlength  1.27\n",
      "3      buick  1.10\n",
      "2        bmw  1.09\n",
      "1       audi  1.07\n",
      "4    porsche  1.02\n"
     ]
    }
   ],
   "source": [
    "col_11=X_train_new.pop('rotor')\n",
    "lr_11=getdetails(X_train_new,y_train)"
   ]
  },
  {
   "cell_type": "code",
   "execution_count": 271,
   "metadata": {},
   "outputs": [
    {
     "name": "stdout",
     "output_type": "stream",
     "text": [
      "                            OLS Regression Results                            \n",
      "==============================================================================\n",
      "Dep. Variable:                  price   R-squared:                       0.744\n",
      "Model:                            OLS   Adj. R-squared:                  0.737\n",
      "Method:                 Least Squares   F-statistic:                     100.4\n",
      "Date:                Mon, 15 Jul 2019   Prob (F-statistic):           7.13e-40\n",
      "Time:                        08:15:44   Log-Likelihood:                 114.46\n",
      "No. Observations:                 143   AIC:                            -218.9\n",
      "Df Residuals:                     138   BIC:                            -204.1\n",
      "Df Model:                           4                                         \n",
      "Covariance Type:            nonrobust                                         \n",
      "==============================================================================\n",
      "                 coef    std err          t      P>|t|      [0.025      0.975]\n",
      "------------------------------------------------------------------------------\n",
      "const         -0.1378      0.026     -5.209      0.000      -0.190      -0.086\n",
      "carlength      0.6138      0.049     12.597      0.000       0.517       0.710\n",
      "bmw            0.3005      0.047      6.351      0.000       0.207       0.394\n",
      "buick          0.3283      0.053      6.174      0.000       0.223       0.433\n",
      "porsche        0.5016      0.065      7.763      0.000       0.374       0.629\n",
      "==============================================================================\n",
      "Omnibus:                       46.194   Durbin-Watson:                   2.157\n",
      "Prob(Omnibus):                  0.000   Jarque-Bera (JB):              104.720\n",
      "Skew:                           1.362   Prob(JB):                     1.82e-23\n",
      "Kurtosis:                       6.187   Cond. No.                         7.94\n",
      "==============================================================================\n",
      "\n",
      "Warnings:\n",
      "[1] Standard Errors assume that the covariance matrix of the errors is correctly specified.\n",
      "    Features   VIF\n",
      "0  carlength  1.19\n",
      "2      buick  1.10\n",
      "1        bmw  1.08\n",
      "3    porsche  1.02\n"
     ]
    }
   ],
   "source": [
    "col_12=X_train_new.pop('audi')\n",
    "lr_12=getdetails(X_train_new,y_train)"
   ]
  },
  {
   "cell_type": "code",
   "execution_count": 289,
   "metadata": {},
   "outputs": [],
   "source": [
    "# Observed drastic drop in R squared value on removing engine size so adding back"
   ]
  },
  {
   "cell_type": "code",
   "execution_count": 272,
   "metadata": {},
   "outputs": [],
   "source": [
    "X_train_new=pd.concat([X_train_new,col_10], axis=1)"
   ]
  },
  {
   "cell_type": "code",
   "execution_count": 273,
   "metadata": {},
   "outputs": [
    {
     "name": "stdout",
     "output_type": "stream",
     "text": [
      "                            OLS Regression Results                            \n",
      "==============================================================================\n",
      "Dep. Variable:                  price   R-squared:                       0.863\n",
      "Model:                            OLS   Adj. R-squared:                  0.858\n",
      "Method:                 Least Squares   F-statistic:                     173.3\n",
      "Date:                Mon, 15 Jul 2019   Prob (F-statistic):           2.04e-57\n",
      "Time:                        08:16:38   Log-Likelihood:                 159.32\n",
      "No. Observations:                 143   AIC:                            -306.6\n",
      "Df Residuals:                     137   BIC:                            -288.9\n",
      "Df Model:                           5                                         \n",
      "Covariance Type:            nonrobust                                         \n",
      "==============================================================================\n",
      "                 coef    std err          t      P>|t|      [0.025      0.975]\n",
      "------------------------------------------------------------------------------\n",
      "const         -0.1209      0.019     -6.209      0.000      -0.159      -0.082\n",
      "carlength      0.2586      0.048      5.356      0.000       0.163       0.354\n",
      "bmw            0.2304      0.035      6.529      0.000       0.161       0.300\n",
      "buick          0.2116      0.040      5.233      0.000       0.132       0.292\n",
      "porsche        0.3147      0.050      6.248      0.000       0.215       0.414\n",
      "enginesize     0.7483      0.068     10.936      0.000       0.613       0.884\n",
      "==============================================================================\n",
      "Omnibus:                       17.579   Durbin-Watson:                   1.927\n",
      "Prob(Omnibus):                  0.000   Jarque-Bera (JB):               20.064\n",
      "Skew:                           0.834   Prob(JB):                     4.40e-05\n",
      "Kurtosis:                       3.764   Cond. No.                         13.9\n",
      "==============================================================================\n",
      "\n",
      "Warnings:\n",
      "[1] Standard Errors assume that the covariance matrix of the errors is correctly specified.\n",
      "     Features   VIF\n",
      "4  enginesize  8.29\n",
      "0   carlength  7.30\n",
      "2       buick  1.19\n",
      "3     porsche  1.15\n",
      "1         bmw  1.12\n"
     ]
    }
   ],
   "source": [
    "lr_13=getdetails(X_train_new,y_train)"
   ]
  },
  {
   "cell_type": "code",
   "execution_count": 274,
   "metadata": {},
   "outputs": [
    {
     "name": "stdout",
     "output_type": "stream",
     "text": [
      "                            OLS Regression Results                            \n",
      "==============================================================================\n",
      "Dep. Variable:                  price   R-squared:                       0.835\n",
      "Model:                            OLS   Adj. R-squared:                  0.830\n",
      "Method:                 Least Squares   F-statistic:                     174.4\n",
      "Date:                Mon, 15 Jul 2019   Prob (F-statistic):           6.24e-53\n",
      "Time:                        08:17:10   Log-Likelihood:                 145.73\n",
      "No. Observations:                 143   AIC:                            -281.5\n",
      "Df Residuals:                     138   BIC:                            -266.6\n",
      "Df Model:                           4                                         \n",
      "Covariance Type:            nonrobust                                         \n",
      "==============================================================================\n",
      "                 coef    std err          t      P>|t|      [0.025      0.975]\n",
      "------------------------------------------------------------------------------\n",
      "const         -0.0438      0.014     -3.048      0.003      -0.072      -0.015\n",
      "bmw            0.2370      0.039      6.132      0.000       0.161       0.313\n",
      "buick          0.2222      0.044      5.022      0.000       0.135       0.310\n",
      "porsche        0.2509      0.054      4.678      0.000       0.145       0.357\n",
      "enginesize     0.9948      0.055     17.929      0.000       0.885       1.105\n",
      "==============================================================================\n",
      "Omnibus:                       31.363   Durbin-Watson:                   1.906\n",
      "Prob(Omnibus):                  0.000   Jarque-Bera (JB):               44.988\n",
      "Skew:                           1.177   Prob(JB):                     1.70e-10\n",
      "Kurtosis:                       4.416   Cond. No.                         9.20\n",
      "==============================================================================\n",
      "\n",
      "Warnings:\n",
      "[1] Standard Errors assume that the covariance matrix of the errors is correctly specified.\n",
      "     Features   VIF\n",
      "3  enginesize  1.36\n",
      "1       buick  1.17\n",
      "0         bmw  1.12\n",
      "2     porsche  1.07\n"
     ]
    }
   ],
   "source": [
    "col_14=X_train_new.pop('carlength')\n",
    "lr_14=getdetails(X_train_new,y_train)"
   ]
  },
  {
   "cell_type": "markdown",
   "metadata": {},
   "source": [
    "## Residual Analysis of the train data"
   ]
  },
  {
   "cell_type": "code",
   "execution_count": 275,
   "metadata": {},
   "outputs": [],
   "source": [
    "X_train_lm = sm.add_constant(X_train_new)"
   ]
  },
  {
   "cell_type": "code",
   "execution_count": 276,
   "metadata": {},
   "outputs": [],
   "source": [
    "y_predict=lr_14.predict(X_train_lm)"
   ]
  },
  {
   "cell_type": "code",
   "execution_count": 277,
   "metadata": {},
   "outputs": [
    {
     "data": {
      "text/plain": [
       "Text(0.5, 0, 'Errors')"
      ]
     },
     "execution_count": 277,
     "metadata": {},
     "output_type": "execute_result"
    },
    {
     "data": {
      "image/png": "[encoded data removed]",
      "text/plain": [
       "<Figure size 576x360 with 1 Axes>"
      ]
     },
     "metadata": {
      "needs_background": "light"
     },
     "output_type": "display_data"
    }
   ],
   "source": [
    "plt.figure(figsize=(8,5))\n",
    "sns.distplot((y_train-y_predict),bins=20)\n",
    "plt.xlabel('Errors', fontsize = 18)                         "
   ]
  },
  {
   "cell_type": "code",
   "execution_count": 278,
   "metadata": {},
   "outputs": [],
   "source": [
    "from sklearn.metrics import mean_squared_error, r2_score"
   ]
  },
  {
   "cell_type": "code",
   "execution_count": 279,
   "metadata": {},
   "outputs": [
    {
     "name": "stdout",
     "output_type": "stream",
     "text": [
      "Mean_Squared_Error : 0.007627215491666182\n",
      "r_square_value : 0.834885047837717\n"
     ]
    }
   ],
   "source": [
    "mse = mean_squared_error(y_train, y_predict)\n",
    "r_squared = r2_score(y_train, y_predict)\n",
    "\n",
    "print('Mean_Squared_Error :' ,mse)\n",
    "print('r_square_value :',r_squared)"
   ]
  },
  {
   "cell_type": "markdown",
   "metadata": {},
   "source": [
    "### Making Predictions"
   ]
  },
  {
   "cell_type": "code",
   "execution_count": 282,
   "metadata": {},
   "outputs": [],
   "source": [
    "#'aspiration','carlength','four','dohcv','eight','porsche','bmw','twelve'\n",
    "# scaling only numeric variables for test dataset\n",
    "num_vars =['enginesize','price']\n",
    "df_test[num_vars] = scaler.fit_transform(df_test[num_vars])"
   ]
  },
  {
   "cell_type": "code",
   "execution_count": 283,
   "metadata": {},
   "outputs": [],
   "source": [
    "y_test = df_test.pop('price')\n",
    "X_test = df_test"
   ]
  },
  {
   "cell_type": "code",
   "execution_count": 284,
   "metadata": {},
   "outputs": [],
   "source": [
    "X_test_new = X_test[X_train_new.columns]\n",
    "X_test_new = sm.add_constant(X_test_new)"
   ]
  },
  {
   "cell_type": "code",
   "execution_count": 285,
   "metadata": {},
   "outputs": [],
   "source": [
    "# Making predictions\n",
    "y_pred = lr_14.predict(X_test_new)\n",
    "# y_pred.shape\n",
    "# y_test.shape"
   ]
  },
  {
   "cell_type": "code",
   "execution_count": 286,
   "metadata": {},
   "outputs": [],
   "source": [
    "from sklearn.metrics import mean_squared_error, r2_score"
   ]
  },
  {
   "cell_type": "code",
   "execution_count": 287,
   "metadata": {},
   "outputs": [
    {
     "name": "stdout",
     "output_type": "stream",
     "text": [
      "Mean_Squared_Error : 0.008085652322108536\n",
      "r_square_value : 0.8152526416676429\n"
     ]
    }
   ],
   "source": [
    "mse = mean_squared_error(y_test, y_pred)\n",
    "r_squared = r2_score(y_test, y_pred)\n",
    "\n",
    "print('Mean_Squared_Error :' ,mse)\n",
    "print('r_square_value :',r_squared)"
   ]
  },
  {
   "cell_type": "markdown",
   "metadata": {},
   "source": [
    "### Model Evaluation"
   ]
  },
  {
   "cell_type": "code",
   "execution_count": 288,
   "metadata": {},
   "outputs": [
    {
     "data": {
      "text/plain": [
       "Text(0, 0.5, 'Views')"
      ]
     },
     "execution_count": 288,
     "metadata": {},
     "output_type": "execute_result"
    },
    {
     "data": {
      "image/png": "[encoded data removed]",
      "text/plain": [
       "<Figure size 432x288 with 1 Axes>"
      ]
     },
     "metadata": {
      "needs_background": "light"
     },
     "output_type": "display_data"
    }
   ],
   "source": [
    "#Actual vs Predicted\n",
    "c = [i for i in range(1,63,1)]\n",
    "fig = plt.figure()\n",
    "plt.plot(c,y_test, color=\"blue\", linewidth=2.5, linestyle=\"-\")\n",
    "plt.plot(c,y_pred, color=\"red\",  linewidth=2.5, linestyle=\"-\")\n",
    "fig.suptitle('Actual and Predicted', fontsize=20)              # Plot heading \n",
    "plt.xlabel('Index', fontsize=18)                               # X-label\n",
    "plt.ylabel('Views', fontsize=16)                               # Y-label"
   ]
  },
  {
   "cell_type": "markdown",
   "metadata": {},
   "source": [
    "## Result :-"
   ]
  },
  {
   "cell_type": "markdown",
   "metadata": {},
   "source": [
    "### Main drivers of  deciding car prices are enginesize,bwm,buick,porsche"
   ]
  },
  {
   "cell_type": "markdown",
   "metadata": {},
   "source": [
    "\n",
    "We can see that the equation of our best fitted line is:\n",
    "\n",
    "$ price = 1.36  \\times  enginesize + 1.17  \\times  buick + 1.12 \\times bwm + 1.07 \\times porsche $\n"
   ]
  }
 ],
 "metadata": {
  "kernelspec": {
   "display_name": "Python 3",
   "language": "python",
   "name": "python3"
  },
  "language_info": {
   "codemirror_mode": {
    "name": "ipython",
    "version": 3
   },
   "file_extension": ".py",
   "mimetype": "text/x-python",
   "name": "python",
   "nbconvert_exporter": "python",
   "pygments_lexer": "ipython3",
   "version": "3.6.6"
  }
 },
 "nbformat": 4,
 "nbformat_minor": 2
}
