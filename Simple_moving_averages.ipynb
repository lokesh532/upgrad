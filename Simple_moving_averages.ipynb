{
 "cells": [
  {
   "cell_type": "code",
   "execution_count": 1,
   "metadata": {},
   "outputs": [],
   "source": [
    "from alpha_vantage.timeseries import TimeSeries\n",
    "from alpha_vantage.techindicators import TechIndicators\n",
    "import matplotlib.pyplot as plt\n",
    "from datetime import date\n",
    "import pandas as pd\n",
    "import numpy as np\n",
    "today = date.today()\n",
    "ts = TimeSeries(key='909PI3XL8ISS08JQ',output_format='pandas')\n",
    "ti = TechIndicators(key='909PI3XL8ISS08JQ', output_format='pandas')"
   ]
  },
  {
   "cell_type": "code",
   "execution_count": 2,
   "metadata": {},
   "outputs": [],
   "source": [
    "import datetime\n",
    "import pytz\n",
    "\n",
    "def convert_datetime_timezone(dt, tz1, tz2):\n",
    "    tz1 = pytz.timezone(tz1)\n",
    "    tz2 = pytz.timezone(tz2)\n",
    "\n",
    "    dt = datetime.datetime.strptime(dt,\"%Y-%m-%d %H:%M\")\n",
    "    dt = tz1.localize(dt)\n",
    "    dt = dt.astimezone(tz2)\n",
    "    dt = dt.strftime(\"%Y-%m-%d %H:%M\")\n",
    "\n",
    "    return dt"
   ]
  },
  {
   "cell_type": "code",
   "execution_count": 3,
   "metadata": {},
   "outputs": [
    {
     "data": {
      "text/plain": [
       "'2019-09-06'"
      ]
     },
     "execution_count": 3,
     "metadata": {},
     "output_type": "execute_result"
    }
   ],
   "source": [
    "d3 = today.strftime(\"%Y-%m-%d\")\n",
    "d3"
   ]
  },
  {
   "cell_type": "code",
   "execution_count": 4,
   "metadata": {},
   "outputs": [],
   "source": [
    "data2, meta_data2 = ti.get_sma('NSE:WIPRO', interval='5min',time_period=5)\n",
    "data2.reset_index(level=0, inplace=True)\n",
    "## Conversion\n",
    "data2['date']=data2['date'].apply(lambda x:convert_datetime_timezone(x, \"US/Eastern\", \"Asia/Calcutta\"))\n",
    "data3, meta_data3 = ti.get_sma('NSE:WIPRO', interval='5min',time_period=8)\n",
    "data3.reset_index(level=0, inplace=True)\n",
    "## Conversion\n",
    "data3['date']=data3['date'].apply(lambda x:convert_datetime_timezone(x, \"US/Eastern\", \"Asia/Calcutta\"))\n",
    "data4, meta_data4 = ti.get_sma('NSE:WIPRO', interval='5min',time_period=13)\n",
    "data4.reset_index(level=0, inplace=True)\n",
    "## Conversion\n",
    "data4['date']=data4['date'].apply(lambda x:convert_datetime_timezone(x, \"US/Eastern\", \"Asia/Calcutta\"))"
   ]
  },
  {
   "cell_type": "code",
   "execution_count": 5,
   "metadata": {},
   "outputs": [],
   "source": [
    "data2=data2[data2.date.str.find(d3)!=-1]"
   ]
  },
  {
   "cell_type": "code",
   "execution_count": 6,
   "metadata": {},
   "outputs": [],
   "source": [
    "data3=data3[data3.date.str.find(d3)!=-1]"
   ]
  },
  {
   "cell_type": "code",
   "execution_count": 7,
   "metadata": {},
   "outputs": [],
   "source": [
    "data4=data4[data4.date.str.find(d3)!=-1]"
   ]
  },
  {
   "cell_type": "code",
   "execution_count": 8,
   "metadata": {},
   "outputs": [],
   "source": [
    "data, meta_data = ts.get_intraday('NSE:WIPRO',interval='5min',outputsize='full')\n",
    "\n",
    "data.reset_index(level=0, inplace=True)\n",
    "\n",
    "## Conversion\n",
    "data['date']=data['date'].apply(lambda x:x[0:-3])\n",
    "data['date']=data['date'].apply(lambda x:convert_datetime_timezone(x, \"US/Eastern\", \"Asia/Calcutta\"))"
   ]
  },
  {
   "cell_type": "code",
   "execution_count": 9,
   "metadata": {},
   "outputs": [],
   "source": [
    "data=data[data.date.str.find(d3)!=-1]"
   ]
  },
  {
   "cell_type": "code",
   "execution_count": 10,
   "metadata": {},
   "outputs": [],
   "source": [
    "data_final=pd.merge(data2, data3, left_on='date', right_on='date')"
   ]
  },
  {
   "cell_type": "code",
   "execution_count": 11,
   "metadata": {},
   "outputs": [],
   "source": [
    "data_final=pd.merge(data_final, data4, left_on='date', right_on='date')"
   ]
  },
  {
   "cell_type": "code",
   "execution_count": 12,
   "metadata": {},
   "outputs": [],
   "source": [
    "data_final=pd.merge(data_final, data, left_on='date', right_on='date')"
   ]
  },
  {
   "cell_type": "code",
   "execution_count": 13,
   "metadata": {},
   "outputs": [
    {
     "data": {
      "text/html": [
       "<div>\n",
       "<style scoped>\n",
       "    .dataframe tbody tr th:only-of-type {\n",
       "        vertical-align: middle;\n",
       "    }\n",
       "\n",
       "    .dataframe tbody tr th {\n",
       "        vertical-align: top;\n",
       "    }\n",
       "\n",
       "    .dataframe thead th {\n",
       "        text-align: right;\n",
       "    }\n",
       "</style>\n",
       "<table border=\"1\" class=\"dataframe\">\n",
       "  <thead>\n",
       "    <tr style=\"text-align: right;\">\n",
       "      <th></th>\n",
       "      <th>SMA_x</th>\n",
       "      <th>SMA_y</th>\n",
       "      <th>SMA</th>\n",
       "      <th>date</th>\n",
       "      <th>1. open</th>\n",
       "      <th>2. high</th>\n",
       "      <th>3. low</th>\n",
       "      <th>4. close</th>\n",
       "      <th>5. volume</th>\n",
       "    </tr>\n",
       "  </thead>\n",
       "  <tbody>\n",
       "  </tbody>\n",
       "</table>\n",
       "</div>"
      ],
      "text/plain": [
       "Empty DataFrame\n",
       "Columns: [SMA_x, SMA_y, SMA, date, 1. open, 2. high, 3. low, 4. close, 5. volume]\n",
       "Index: []"
      ]
     },
     "execution_count": 13,
     "metadata": {},
     "output_type": "execute_result"
    }
   ],
   "source": [
    "data_final"
   ]
  },
  {
   "cell_type": "code",
   "execution_count": null,
   "metadata": {},
   "outputs": [],
   "source": []
  }
 ],
 "metadata": {
  "kernelspec": {
   "display_name": "Python 3",
   "language": "python",
   "name": "python3"
  },
  "language_info": {
   "codemirror_mode": {
    "name": "ipython",
    "version": 3
   },
   "file_extension": ".py",
   "mimetype": "text/x-python",
   "name": "python",
   "nbconvert_exporter": "python",
   "pygments_lexer": "ipython3",
   "version": "3.6.6"
  }
 },
 "nbformat": 4,
 "nbformat_minor": 2
}
