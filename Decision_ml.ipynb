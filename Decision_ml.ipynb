{
 "cells": [
  {
   "cell_type": "code",
   "execution_count": 1,
   "metadata": {},
   "outputs": [],
   "source": [
    "# Importing the required libraries\n",
    "import pandas as pd\n",
    "import numpy as np\n",
    "import matplotlib.pyplot as plt\n",
    "import seaborn as sns\n",
    "%matplotlib inline"
   ]
  },
  {
   "cell_type": "code",
   "execution_count": 2,
   "metadata": {},
   "outputs": [],
   "source": [
    "# To ignore warnings\n",
    "import warnings\n",
    "warnings.filterwarnings(\"ignore\")"
   ]
  },
  {
   "cell_type": "code",
   "execution_count": 3,
   "metadata": {},
   "outputs": [],
   "source": [
    "# Reading the csv file and putting it into 'df' object.\n",
    "df = pd.read_csv('nocil_new.csv')"
   ]
  },
  {
   "cell_type": "code",
   "execution_count": 4,
   "metadata": {},
   "outputs": [
    {
     "name": "stdout",
     "output_type": "stream",
     "text": [
      "<class 'pandas.core.frame.DataFrame'>\n",
      "RangeIndex: 1699 entries, 0 to 1698\n",
      "Data columns (total 9 columns):\n",
      "RSI            1699 non-null float64\n",
      "MACD           1699 non-null float64\n",
      "MACD_Hist      1699 non-null float64\n",
      "MACD_Signal    1699 non-null float64\n",
      "CCI            1699 non-null float64\n",
      "4. close       1699 non-null float64\n",
      "5. volume      1699 non-null int64\n",
      "bb_value       1699 non-null int64\n",
      "price          1699 non-null float64\n",
      "dtypes: float64(7), int64(2)\n",
      "memory usage: 119.5 KB\n"
     ]
    }
   ],
   "source": [
    "# Let's understand the type of values in each column of our dataframe 'df'.\n",
    "df.info()"
   ]
  },
  {
   "cell_type": "code",
   "execution_count": 5,
   "metadata": {},
   "outputs": [
    {
     "data": {
      "text/plain": [
       "RSI            0\n",
       "MACD           0\n",
       "MACD_Hist      0\n",
       "MACD_Signal    0\n",
       "CCI            0\n",
       "4. close       0\n",
       "5. volume      0\n",
       "bb_value       0\n",
       "price          0\n",
       "dtype: int64"
      ]
     },
     "execution_count": 5,
     "metadata": {},
     "output_type": "execute_result"
    }
   ],
   "source": [
    "df.isnull().sum()"
   ]
  },
  {
   "cell_type": "code",
   "execution_count": 6,
   "metadata": {},
   "outputs": [],
   "source": [
    "df['price'] = df.apply(lambda x : 1 if x['price'] > x['4. close']  else 0, axis=1)"
   ]
  },
  {
   "cell_type": "code",
   "execution_count": 7,
   "metadata": {},
   "outputs": [],
   "source": [
    "# Importing train-test-split \n",
    "from sklearn.model_selection import train_test_split"
   ]
  },
  {
   "cell_type": "code",
   "execution_count": 8,
   "metadata": {},
   "outputs": [
    {
     "data": {
      "text/html": [
       "<div>\n",
       "<style scoped>\n",
       "    .dataframe tbody tr th:only-of-type {\n",
       "        vertical-align: middle;\n",
       "    }\n",
       "\n",
       "    .dataframe tbody tr th {\n",
       "        vertical-align: top;\n",
       "    }\n",
       "\n",
       "    .dataframe thead th {\n",
       "        text-align: right;\n",
       "    }\n",
       "</style>\n",
       "<table border=\"1\" class=\"dataframe\">\n",
       "  <thead>\n",
       "    <tr style=\"text-align: right;\">\n",
       "      <th></th>\n",
       "      <th>RSI</th>\n",
       "      <th>MACD</th>\n",
       "      <th>MACD_Hist</th>\n",
       "      <th>MACD_Signal</th>\n",
       "      <th>CCI</th>\n",
       "      <th>4. close</th>\n",
       "      <th>5. volume</th>\n",
       "      <th>bb_value</th>\n",
       "      <th>price</th>\n",
       "    </tr>\n",
       "  </thead>\n",
       "  <tbody>\n",
       "    <tr>\n",
       "      <th>0</th>\n",
       "      <td>51.2715</td>\n",
       "      <td>-0.1519</td>\n",
       "      <td>0.0656</td>\n",
       "      <td>-0.2175</td>\n",
       "      <td>17.7448</td>\n",
       "      <td>83.50</td>\n",
       "      <td>12488</td>\n",
       "      <td>9</td>\n",
       "      <td>0</td>\n",
       "    </tr>\n",
       "    <tr>\n",
       "      <th>1</th>\n",
       "      <td>43.2771</td>\n",
       "      <td>-0.1628</td>\n",
       "      <td>0.0438</td>\n",
       "      <td>-0.2066</td>\n",
       "      <td>-92.1569</td>\n",
       "      <td>83.20</td>\n",
       "      <td>6361</td>\n",
       "      <td>-79</td>\n",
       "      <td>0</td>\n",
       "    </tr>\n",
       "    <tr>\n",
       "      <th>2</th>\n",
       "      <td>39.9951</td>\n",
       "      <td>-0.1815</td>\n",
       "      <td>0.0201</td>\n",
       "      <td>-0.2016</td>\n",
       "      <td>-206.4536</td>\n",
       "      <td>83.05</td>\n",
       "      <td>4505</td>\n",
       "      <td>-117</td>\n",
       "      <td>0</td>\n",
       "    </tr>\n",
       "    <tr>\n",
       "      <th>3</th>\n",
       "      <td>38.9583</td>\n",
       "      <td>-0.1981</td>\n",
       "      <td>0.0028</td>\n",
       "      <td>-0.2009</td>\n",
       "      <td>-184.7054</td>\n",
       "      <td>83.00</td>\n",
       "      <td>4623</td>\n",
       "      <td>-111</td>\n",
       "      <td>0</td>\n",
       "    </tr>\n",
       "    <tr>\n",
       "      <th>4</th>\n",
       "      <td>34.2815</td>\n",
       "      <td>-0.2287</td>\n",
       "      <td>-0.0223</td>\n",
       "      <td>-0.2064</td>\n",
       "      <td>-233.8862</td>\n",
       "      <td>82.75</td>\n",
       "      <td>8751</td>\n",
       "      <td>-139</td>\n",
       "      <td>0</td>\n",
       "    </tr>\n",
       "  </tbody>\n",
       "</table>\n",
       "</div>"
      ],
      "text/plain": [
       "       RSI    MACD  MACD_Hist  MACD_Signal       CCI  4. close  5. volume  \\\n",
       "0  51.2715 -0.1519     0.0656      -0.2175   17.7448     83.50      12488   \n",
       "1  43.2771 -0.1628     0.0438      -0.2066  -92.1569     83.20       6361   \n",
       "2  39.9951 -0.1815     0.0201      -0.2016 -206.4536     83.05       4505   \n",
       "3  38.9583 -0.1981     0.0028      -0.2009 -184.7054     83.00       4623   \n",
       "4  34.2815 -0.2287    -0.0223      -0.2064 -233.8862     82.75       8751   \n",
       "\n",
       "   bb_value  price  \n",
       "0         9      0  \n",
       "1       -79      0  \n",
       "2      -117      0  \n",
       "3      -111      0  \n",
       "4      -139      0  "
      ]
     },
     "execution_count": 8,
     "metadata": {},
     "output_type": "execute_result"
    }
   ],
   "source": [
    "df.head()"
   ]
  },
  {
   "cell_type": "code",
   "execution_count": 9,
   "metadata": {},
   "outputs": [],
   "source": [
    "# Putting feature variable to X\n",
    "X = df.drop(['price'],axis=1)\n",
    "\n",
    "# Putting response variable to y\n",
    "y = df['price']"
   ]
  },
  {
   "cell_type": "code",
   "execution_count": 10,
   "metadata": {},
   "outputs": [
    {
     "data": {
      "text/html": [
       "<div>\n",
       "<style scoped>\n",
       "    .dataframe tbody tr th:only-of-type {\n",
       "        vertical-align: middle;\n",
       "    }\n",
       "\n",
       "    .dataframe tbody tr th {\n",
       "        vertical-align: top;\n",
       "    }\n",
       "\n",
       "    .dataframe thead th {\n",
       "        text-align: right;\n",
       "    }\n",
       "</style>\n",
       "<table border=\"1\" class=\"dataframe\">\n",
       "  <thead>\n",
       "    <tr style=\"text-align: right;\">\n",
       "      <th></th>\n",
       "      <th>RSI</th>\n",
       "      <th>MACD</th>\n",
       "      <th>MACD_Hist</th>\n",
       "      <th>MACD_Signal</th>\n",
       "      <th>CCI</th>\n",
       "      <th>4. close</th>\n",
       "      <th>5. volume</th>\n",
       "      <th>bb_value</th>\n",
       "    </tr>\n",
       "  </thead>\n",
       "  <tbody>\n",
       "    <tr>\n",
       "      <th>792</th>\n",
       "      <td>55.9932</td>\n",
       "      <td>0.0479</td>\n",
       "      <td>0.0379</td>\n",
       "      <td>0.0101</td>\n",
       "      <td>143.6611</td>\n",
       "      <td>90.4500</td>\n",
       "      <td>1056</td>\n",
       "      <td>75</td>\n",
       "    </tr>\n",
       "    <tr>\n",
       "      <th>930</th>\n",
       "      <td>42.8898</td>\n",
       "      <td>-0.1640</td>\n",
       "      <td>0.0077</td>\n",
       "      <td>-0.1718</td>\n",
       "      <td>-61.4882</td>\n",
       "      <td>90.7500</td>\n",
       "      <td>2736</td>\n",
       "      <td>-27</td>\n",
       "    </tr>\n",
       "    <tr>\n",
       "      <th>58</th>\n",
       "      <td>72.4723</td>\n",
       "      <td>0.4238</td>\n",
       "      <td>0.0493</td>\n",
       "      <td>0.3745</td>\n",
       "      <td>91.3212</td>\n",
       "      <td>83.9027</td>\n",
       "      <td>10199</td>\n",
       "      <td>64</td>\n",
       "    </tr>\n",
       "    <tr>\n",
       "      <th>821</th>\n",
       "      <td>67.9030</td>\n",
       "      <td>0.4621</td>\n",
       "      <td>-0.0139</td>\n",
       "      <td>0.4760</td>\n",
       "      <td>68.0591</td>\n",
       "      <td>92.5500</td>\n",
       "      <td>2534</td>\n",
       "      <td>40</td>\n",
       "    </tr>\n",
       "    <tr>\n",
       "      <th>855</th>\n",
       "      <td>45.7070</td>\n",
       "      <td>-0.0733</td>\n",
       "      <td>-0.0531</td>\n",
       "      <td>-0.0202</td>\n",
       "      <td>-152.5427</td>\n",
       "      <td>92.1500</td>\n",
       "      <td>7029</td>\n",
       "      <td>-81</td>\n",
       "    </tr>\n",
       "  </tbody>\n",
       "</table>\n",
       "</div>"
      ],
      "text/plain": [
       "         RSI    MACD  MACD_Hist  MACD_Signal       CCI  4. close  5. volume  \\\n",
       "792  55.9932  0.0479     0.0379       0.0101  143.6611   90.4500       1056   \n",
       "930  42.8898 -0.1640     0.0077      -0.1718  -61.4882   90.7500       2736   \n",
       "58   72.4723  0.4238     0.0493       0.3745   91.3212   83.9027      10199   \n",
       "821  67.9030  0.4621    -0.0139       0.4760   68.0591   92.5500       2534   \n",
       "855  45.7070 -0.0733    -0.0531      -0.0202 -152.5427   92.1500       7029   \n",
       "\n",
       "     bb_value  \n",
       "792        75  \n",
       "930       -27  \n",
       "58         64  \n",
       "821        40  \n",
       "855       -81  "
      ]
     },
     "execution_count": 10,
     "metadata": {},
     "output_type": "execute_result"
    }
   ],
   "source": [
    "X_train, X_test, y_train, y_test = train_test_split(X, y, \n",
    "                                                    test_size=0.30, \n",
    "                                                    random_state = 99)\n",
    "X_train.head()"
   ]
  },
  {
   "cell_type": "code",
   "execution_count": 11,
   "metadata": {},
   "outputs": [],
   "source": [
    "# from sklearn import preprocessing\n",
    "# lab_enc = preprocessing.LabelEncoder()\n",
    "# training_scores_encoded = lab_enc.fit_transform(y_train)"
   ]
  },
  {
   "cell_type": "code",
   "execution_count": 12,
   "metadata": {},
   "outputs": [],
   "source": [
    "#len(training_scores_encoded)"
   ]
  },
  {
   "cell_type": "code",
   "execution_count": 13,
   "metadata": {},
   "outputs": [
    {
     "data": {
      "text/plain": [
       "DecisionTreeClassifier(class_weight=None, criterion='gini', max_depth=5,\n",
       "            max_features=None, max_leaf_nodes=None,\n",
       "            min_impurity_decrease=0.0, min_impurity_split=None,\n",
       "            min_samples_leaf=1, min_samples_split=2,\n",
       "            min_weight_fraction_leaf=0.0, presort=False, random_state=None,\n",
       "            splitter='best')"
      ]
     },
     "execution_count": 13,
     "metadata": {},
     "output_type": "execute_result"
    }
   ],
   "source": [
    "# Importing decision tree classifier from sklearn library\n",
    "from sklearn.tree import DecisionTreeClassifier\n",
    "\n",
    "# Fitting the decision tree with default hyperparameters, apart from\n",
    "# max_depth which is 5 so that we can plot and read the tree.\n",
    "dt_default = DecisionTreeClassifier(max_depth=5)\n",
    "dt_default.fit(X_train, y_train)"
   ]
  },
  {
   "cell_type": "code",
   "execution_count": 14,
   "metadata": {},
   "outputs": [
    {
     "name": "stdout",
     "output_type": "stream",
     "text": [
      "              precision    recall  f1-score   support\n",
      "\n",
      "           0       0.64      0.61      0.63       304\n",
      "           1       0.47      0.50      0.48       206\n",
      "\n",
      "   micro avg       0.57      0.57      0.57       510\n",
      "   macro avg       0.56      0.56      0.56       510\n",
      "weighted avg       0.57      0.57      0.57       510\n",
      "\n"
     ]
    }
   ],
   "source": [
    "# Let's check the evaluation metrics of our default model\n",
    "\n",
    "# Importing classification report and confusion matrix from sklearn metrics\n",
    "from sklearn.metrics import classification_report, confusion_matrix, accuracy_score\n",
    "\n",
    "# Making predictions\n",
    "y_pred_default = dt_default.predict(X_test)\n",
    "\n",
    "# Printing classification report\n",
    "print(classification_report(y_test, y_pred_default))"
   ]
  },
  {
   "cell_type": "code",
   "execution_count": 16,
   "metadata": {},
   "outputs": [
    {
     "name": "stdout",
     "output_type": "stream",
     "text": [
      "[[185 119]\n",
      " [102 104]]\n",
      "0.5666666666666667\n"
     ]
    }
   ],
   "source": [
    "# Printing confusion matrix and accuracy\n",
    "print(confusion_matrix(y_test,y_pred_default))\n",
    "print(accuracy_score(y_test,y_pred_default))"
   ]
  },
  {
   "cell_type": "code",
   "execution_count": null,
   "metadata": {},
   "outputs": [],
   "source": []
  }
 ],
 "metadata": {
  "kernelspec": {
   "display_name": "Python 3",
   "language": "python",
   "name": "python3"
  },
  "language_info": {
   "codemirror_mode": {
    "name": "ipython",
    "version": 3
   },
   "file_extension": ".py",
   "mimetype": "text/x-python",
   "name": "python",
   "nbconvert_exporter": "python",
   "pygments_lexer": "ipython3",
   "version": "3.6.6"
  }
 },
 "nbformat": 4,
 "nbformat_minor": 2
}
